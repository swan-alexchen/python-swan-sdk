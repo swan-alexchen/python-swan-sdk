{
 "cells": [
  {
   "cell_type": "markdown",
   "metadata": {},
   "source": [
    "## Demo for SDK\n",
    "\n",
    "This example shows how to use SDK to deploy a task. The demo notebook includes the following steps:\n",
    "\n",
    "- [Getting Started](#Getting-Started)\n",
    "    - [initialization](#initialization)\n",
    "    - [show available hardware info list](#show-available-hardware-information)\n",
    "    - [choose hardware config](#Set-default-hardware-config-Optional)\n",
    "- [Creating And Deploying Task](#Creating-And-Deploying-Task)\n",
    "    - [estimate payment amount](#estimate-payment-amount-optional)\n",
    "    - [Auto Pay Path](#Auto-Pay-Path)\n",
    "        - [create task with auto_pay](#Create-task-auto_pay)\n",
    "        - [renew task with auto-pay](#renew-task-auto-pay-optional)\n",
    "    - [No Auto Pay Path](#No-Auto-Pay-Path)\n",
    "        - [create task with no auto_pay to get `task_uuid`](#Create-task-No-auto_pay)\n",
    "        - [make payment](#make-payment-Optional)\n",
    "        - [validate payment](#validate-payment-to-deploy-task)\n",
    "        - [renew task](#renew-task-no-auto-pay-optional)\n",
    "    - [terminate task](#terminate-task-optional)\n",
    "    - [claim review](#claim-review-optional)\n",
    "- [View Deployed Task Results](#View-Deployed-Task-Results)\n",
    "    - [follow up task status](#follow-up-task-status-optional)\n",
    "    - [show result](#show-result)\n"
   ]
  },
  {
   "cell_type": "markdown",
   "metadata": {},
   "source": [
    "# Getting Started"
   ]
  },
  {
   "cell_type": "markdown",
   "metadata": {},
   "source": [
    "\n",
    "### Initialization\n",
    "\n",
    "#### get an `API_KEY`\n",
    "\n",
    "- For test version, get `API_KEY` in dashboard page: https://orchestrator-test.swanchain.io\n",
    "- For prod version, get `API_KEY` in dashboard page: https://orchestrator.swanchain.io\n",
    "\n",
    "If use this repository to test on your local machine, add `sys.path.insert(0, '..')` at the beginning, and run code in the root directory of this repository.\n",
    "\n",
    "To use this SDK demo, you need to add environment file `.env` in your local directory, including the following parameters (`PK` is private key):\n",
    "\n",
    "```\n",
    "API_KEY=\n",
    "WALLET=\n",
    "PK=\n",
    "```"
   ]
  },
  {
   "cell_type": "code",
   "metadata": {
    "ExecuteTime": {
     "end_time": "2024-08-21T21:43:49.493544Z",
     "start_time": "2024-08-21T21:43:49.027481Z"
    }
   },
   "source": [
    "from swan import Orchestrator\n",
    "import sys\n",
    "sys.path.insert(0, '..') \n",
    "\n",
    "import os\n",
    "import time\n",
    "import dotenv\n",
    "import json\n",
    "dotenv.load_dotenv()\n",
    "\n",
    "import swan\n",
    "\n",
    "wallet_address = os.getenv('WALLET')\n",
    "private_key = os.getenv('PK')\n",
    "api_key = os.getenv('API_KEY')\n",
    "# for testnet dev\n",
    "swan_orchestrator: Orchestrator = swan.resource(\n",
    "    api_key=api_key, \n",
    "    service_name='Orchestrator', \n",
    "    login_url='https://swanhub-cali.swanchain.io',      # dev version for testnet login url\n",
    "    url_endpoint='https://swanhub-cali.swanchain.io'    # dev version for testnet\n",
    ")\n",
    "\n",
    "# # for testnet prod\n",
    "# swan_orchestrator = swan.resource(\n",
    "#     api_key=api_key, \n",
    "#     service_name='Orchestrator'\n",
    "# )\n",
    "\n",
    "# # for mainnet\n",
    "# swan_orchestrator = swan.resource(\n",
    "#     api_key=api_key, \n",
    "#     service_name='Orchestrator',\n",
    "#     network='mainnet'\n",
    "# )\n"
   ],
   "outputs": [
    {
     "ename": "ModuleNotFoundError",
     "evalue": "No module named 'cryptography'",
     "output_type": "error",
     "traceback": [
      "\u001B[0;31m---------------------------------------------------------------------------\u001B[0m",
      "\u001B[0;31mModuleNotFoundError\u001B[0m                       Traceback (most recent call last)",
      "Cell \u001B[0;32mIn[1], line 1\u001B[0m\n\u001B[0;32m----> 1\u001B[0m \u001B[38;5;28;01mfrom\u001B[39;00m \u001B[38;5;21;01mswan\u001B[39;00m \u001B[38;5;28;01mimport\u001B[39;00m Orchestrator\n\u001B[1;32m      2\u001B[0m \u001B[38;5;28;01mimport\u001B[39;00m \u001B[38;5;21;01msys\u001B[39;00m\n\u001B[1;32m      3\u001B[0m sys\u001B[38;5;241m.\u001B[39mpath\u001B[38;5;241m.\u001B[39minsert(\u001B[38;5;241m0\u001B[39m, \u001B[38;5;124m'\u001B[39m\u001B[38;5;124m..\u001B[39m\u001B[38;5;124m'\u001B[39m) \n",
      "File \u001B[0;32m~/Documents/projects/python-swan-sdk/swan/__init__.py:3\u001B[0m\n\u001B[1;32m      1\u001B[0m \u001B[38;5;66;03m# ./swan/__init__.py\u001B[39;00m\n\u001B[0;32m----> 3\u001B[0m \u001B[38;5;28;01mfrom\u001B[39;00m \u001B[38;5;21;01mswan\u001B[39;00m\u001B[38;5;21;01m.\u001B[39;00m\u001B[38;5;21;01mapi\u001B[39;00m\u001B[38;5;21;01m.\u001B[39;00m\u001B[38;5;21;01morchestrator\u001B[39;00m \u001B[38;5;28;01mimport\u001B[39;00m Orchestrator\n\u001B[1;32m      4\u001B[0m \u001B[38;5;28;01mfrom\u001B[39;00m \u001B[38;5;21;01mswan\u001B[39;00m\u001B[38;5;21;01m.\u001B[39;00m\u001B[38;5;21;01mapi_client\u001B[39;00m \u001B[38;5;28;01mimport\u001B[39;00m APIClient\n\u001B[1;32m      5\u001B[0m \u001B[38;5;28;01mfrom\u001B[39;00m \u001B[38;5;21;01mswan\u001B[39;00m\u001B[38;5;21;01m.\u001B[39;00m\u001B[38;5;21;01mcontract\u001B[39;00m\u001B[38;5;21;01m.\u001B[39;00m\u001B[38;5;21;01mswan_contract\u001B[39;00m \u001B[38;5;28;01mimport\u001B[39;00m SwanContract\n",
      "File \u001B[0;32m~/Documents/projects/python-swan-sdk/swan/api/orchestrator.py:12\u001B[0m\n\u001B[1;32m      9\u001B[0m \u001B[38;5;28;01mfrom\u001B[39;00m \u001B[38;5;21;01meth_account\u001B[39;00m \u001B[38;5;28;01mimport\u001B[39;00m Account\n\u001B[1;32m     10\u001B[0m \u001B[38;5;28;01mfrom\u001B[39;00m \u001B[38;5;21;01meth_account\u001B[39;00m\u001B[38;5;21;01m.\u001B[39;00m\u001B[38;5;21;01mmessages\u001B[39;00m \u001B[38;5;28;01mimport\u001B[39;00m encode_defunct\n\u001B[0;32m---> 12\u001B[0m \u001B[38;5;28;01mfrom\u001B[39;00m \u001B[38;5;21;01mswan\u001B[39;00m\u001B[38;5;21;01m.\u001B[39;00m\u001B[38;5;21;01mapi_client\u001B[39;00m \u001B[38;5;28;01mimport\u001B[39;00m APIClient\n\u001B[1;32m     13\u001B[0m \u001B[38;5;28;01mfrom\u001B[39;00m \u001B[38;5;21;01mswan\u001B[39;00m\u001B[38;5;21;01m.\u001B[39;00m\u001B[38;5;21;01mcommon\u001B[39;00m \u001B[38;5;28;01mimport\u001B[39;00m utils\n\u001B[1;32m     14\u001B[0m \u001B[38;5;28;01mfrom\u001B[39;00m \u001B[38;5;21;01mswan\u001B[39;00m\u001B[38;5;21;01m.\u001B[39;00m\u001B[38;5;21;01mcommon\u001B[39;00m\u001B[38;5;21;01m.\u001B[39;00m\u001B[38;5;21;01mconstant\u001B[39;00m \u001B[38;5;28;01mimport\u001B[39;00m \u001B[38;5;241m*\u001B[39m\n",
      "File \u001B[0;32m~/Documents/projects/python-swan-sdk/swan/api_client.py:8\u001B[0m\n\u001B[1;32m      4\u001B[0m \u001B[38;5;28;01mimport\u001B[39;00m \u001B[38;5;21;01mjson\u001B[39;00m\n\u001B[1;32m      7\u001B[0m \u001B[38;5;28;01mfrom\u001B[39;00m \u001B[38;5;21;01mswan\u001B[39;00m\u001B[38;5;21;01m.\u001B[39;00m\u001B[38;5;21;01mcommon\u001B[39;00m\u001B[38;5;21;01m.\u001B[39;00m\u001B[38;5;21;01mconstant\u001B[39;00m \u001B[38;5;28;01mimport\u001B[39;00m GET, PUT, POST, DELETE\n\u001B[0;32m----> 8\u001B[0m \u001B[38;5;28;01mfrom\u001B[39;00m \u001B[38;5;21;01mswan\u001B[39;00m\u001B[38;5;21;01m.\u001B[39;00m\u001B[38;5;21;01mcommon\u001B[39;00m \u001B[38;5;28;01mimport\u001B[39;00m utils\n\u001B[1;32m     11\u001B[0m \u001B[38;5;28;01mclass\u001B[39;00m \u001B[38;5;21;01mAPIClient\u001B[39;00m(\u001B[38;5;28mobject\u001B[39m):\n\u001B[1;32m     13\u001B[0m     \u001B[38;5;28;01mdef\u001B[39;00m \u001B[38;5;21m_request\u001B[39m(\u001B[38;5;28mself\u001B[39m, method, request_path, swan_api, params, token, files\u001B[38;5;241m=\u001B[39m\u001B[38;5;28;01mFalse\u001B[39;00m, json_body\u001B[38;5;241m=\u001B[39m\u001B[38;5;28;01mFalse\u001B[39;00m):\n",
      "File \u001B[0;32m~/Documents/projects/python-swan-sdk/swan/common/utils.py:13\u001B[0m\n\u001B[1;32m     10\u001B[0m \u001B[38;5;28;01mimport\u001B[39;00m \u001B[38;5;21;01mre\u001B[39;00m\n\u001B[1;32m     11\u001B[0m \u001B[38;5;28;01mimport\u001B[39;00m \u001B[38;5;21;01mdatetime\u001B[39;00m\n\u001B[0;32m---> 13\u001B[0m \u001B[38;5;28;01mfrom\u001B[39;00m \u001B[38;5;21;01mcryptography\u001B[39;00m\u001B[38;5;21;01m.\u001B[39;00m\u001B[38;5;21;01mhazmat\u001B[39;00m\u001B[38;5;21;01m.\u001B[39;00m\u001B[38;5;21;01mbackends\u001B[39;00m \u001B[38;5;28;01mimport\u001B[39;00m default_backend\n\u001B[1;32m     14\u001B[0m \u001B[38;5;28;01mfrom\u001B[39;00m \u001B[38;5;21;01mcryptography\u001B[39;00m\u001B[38;5;21;01m.\u001B[39;00m\u001B[38;5;21;01mhazmat\u001B[39;00m\u001B[38;5;21;01m.\u001B[39;00m\u001B[38;5;21;01mprimitives\u001B[39;00m \u001B[38;5;28;01mimport\u001B[39;00m padding\n\u001B[1;32m     15\u001B[0m \u001B[38;5;28;01mfrom\u001B[39;00m \u001B[38;5;21;01mcryptography\u001B[39;00m\u001B[38;5;21;01m.\u001B[39;00m\u001B[38;5;21;01mhazmat\u001B[39;00m\u001B[38;5;21;01m.\u001B[39;00m\u001B[38;5;21;01mprimitives\u001B[39;00m\u001B[38;5;21;01m.\u001B[39;00m\u001B[38;5;21;01mciphers\u001B[39;00m \u001B[38;5;28;01mimport\u001B[39;00m Cipher, algorithms, modes\n",
      "\u001B[0;31mModuleNotFoundError\u001B[0m: No module named 'cryptography'"
     ]
    }
   ],
   "execution_count": 1
  },
  {
   "cell_type": "code",
   "metadata": {
    "ExecuteTime": {
     "end_time": "2024-08-19T19:27:11.161508Z",
     "start_time": "2024-08-19T19:27:11.158454Z"
    }
   },
   "source": [
    "r = swan_orchestrator.contract_info\n",
    "print(json.dumps(r, indent=2))"
   ],
   "outputs": [
    {
     "name": "stdout",
     "output_type": "stream",
     "text": [
      "{\n",
      "  \"client_contract_address\": \"0x1AcF156C8bfaC190b6004586F041959A42903790\",\n",
      "  \"payment_contract_address\": \"0xB48c5D1c025655BA79Ac4E10C0F19523dB97c816\",\n",
      "  \"rpc_url\": \"https://rpc-atom-internal.swanchain.io\",\n",
      "  \"swan_token_contract_address\": \"0x91B25A65b295F0405552A4bbB77879ab5e38166c\"\n",
      "}\n"
     ]
    }
   ],
   "execution_count": 2
  },
  {
   "cell_type": "markdown",
   "metadata": {},
   "source": [
    "### Show available hardware information (Optional)"
   ]
  },
  {
   "cell_type": "code",
   "metadata": {
    "ExecuteTime": {
     "end_time": "2024-08-19T19:27:11.289455Z",
     "start_time": "2024-08-19T19:27:11.162966Z"
    }
   },
   "source": [
    "hardwares_info = swan_orchestrator.get_hardware_config()\n",
    "print(hardwares_info)\n",
    "hardware_id = 0\n",
    "region = 'global'"
   ],
   "outputs": [
    {
     "name": "stdout",
     "output_type": "stream",
     "text": [
      "[{'id': 0, 'name': 'C1ae.small', 'description': 'CPU only · 2 vCPU · 2 GiB', 'type': 'CPU', 'region': ['North Carolina-US', 'Quebec-CA'], 'price': '0.0', 'status': 'available'}, {'id': 1, 'name': 'C1ae.medium', 'description': 'CPU only · 4 vCPU · 4 GiB', 'type': 'CPU', 'region': ['North Carolina-US', 'Quebec-CA'], 'price': '1.0', 'status': 'available'}, {'id': 12, 'name': 'G1ae.small', 'description': 'Nvidia 3080 · 4 vCPU · 8 GiB', 'type': 'GPU', 'region': ['North Carolina-US', 'Quebec-CA'], 'price': '10.0', 'status': 'available'}, {'id': 13, 'name': 'G1ae.medium', 'description': 'Nvidia 3080 · 8 vCPU · 16 GiB', 'type': 'GPU', 'region': ['North Carolina-US', 'Quebec-CA'], 'price': '11.0', 'status': 'available'}, {'id': 20, 'name': 'Hpc1ae.small', 'description': 'Nvidia 3090 · 4 vCPU · 8 GiB', 'type': 'GPU', 'region': ['Quebec-CA'], 'price': '14.0', 'status': 'available'}, {'id': 21, 'name': 'Hpc1ae.medium', 'description': 'Nvidia 3090 · 8 vCPU · 16 GiB', 'type': 'GPU', 'region': ['Quebec-CA'], 'price': '16.0', 'status': 'available'}, {'id': 73, 'name': 'R1ae.medium', 'description': 'Nvidia 3080 · 8 vCPU · 32 GiB', 'type': 'GPU', 'region': ['North Carolina-US', 'Quebec-CA'], 'price': '22.0', 'status': 'available'}, {'id': 74, 'name': 'R1ae.large', 'description': 'Nvidia 3090 · 8 vCPU · 32 GiB', 'type': 'GPU', 'region': ['Quebec-CA'], 'price': '30.0', 'status': 'available'}]\n"
     ]
    }
   ],
   "execution_count": 3
  },
  {
   "cell_type": "markdown",
   "metadata": {},
   "source": [
    "### Select hardware and region (Optional)\n",
    "\n",
    "choose a hardware with its hardware id and region. If no hardware_id is provided in future functions, it will default to free tier, and it no region is provided, it will default to global."
   ]
  },
  {
   "cell_type": "code",
   "metadata": {
    "ExecuteTime": {
     "end_time": "2024-08-19T19:27:11.293639Z",
     "start_time": "2024-08-19T19:27:11.291508Z"
    }
   },
   "source": [
    "hardware_id = 0\n",
    "region = 'global'"
   ],
   "outputs": [],
   "execution_count": 4
  },
  {
   "cell_type": "markdown",
   "metadata": {},
   "source": [
    "# Creating And Deploying Task"
   ]
  },
  {
   "cell_type": "markdown",
   "metadata": {},
   "source": [
    "### Show repository image of pre-defined applications (optional)"
   ]
  },
  {
   "cell_type": "code",
   "metadata": {
    "ExecuteTime": {
     "end_time": "2024-08-19T19:27:11.448610Z",
     "start_time": "2024-08-19T19:27:11.294562Z"
    }
   },
   "source": [
    "swan_orchestrator.get_app_repo_image() "
   ],
   "outputs": [
    {
     "data": {
      "text/plain": [
       "{'data': [{'name': 'Yearn',\n",
       "   'url': 'https://github.com/swanchain/awesome-swanchain/tree/main/Yearn'},\n",
       "  {'name': 'yfii',\n",
       "   'url': 'https://github.com/swanchain/awesome-swanchain/tree/main/yfii'},\n",
       "  {'name': 'uniswap',\n",
       "   'url': 'https://github.com/swanchain/awesome-swanchain/tree/main/uniswap'},\n",
       "  {'name': 'luaswap',\n",
       "   'url': 'https://github.com/swanchain/awesome-swanchain/tree/main/luaswap'},\n",
       "  {'name': 'kanboard',\n",
       "   'url': 'https://github.com/swanchain/awesome-swanchain/tree/main/kanboard'},\n",
       "  {'name': 'swanchain-docker',\n",
       "   'url': 'https://github.com/swanchain/awesome-swanchain/tree/main/swanchain-docker'},\n",
       "  {'name': 'DEGO',\n",
       "   'url': 'https://github.com/swanchain/awesome-swanchain/tree/main/DEGO'},\n",
       "  {'name': 'pacman',\n",
       "   'url': 'https://github.com/swanchain/awesome-swanchain/tree/main/pacman'},\n",
       "  {'name': 'game-fireboy-and-watergirl-2',\n",
       "   'url': 'https://github.com/swanchain/awesome-swanchain/tree/main/game-fireboy-and-watergirl-2'},\n",
       "  {'name': 'aleo_testnet_miner_beta_f2pool',\n",
       "   'url': 'https://github.com/swanchain/awesome-swanchain/tree/main/aleo_testnet_miner_beta_f2pool'},\n",
       "  {'name': 'github-to-lagrange-tool',\n",
       "   'url': 'https://github.com/swanchain/awesome-swanchain/tree/main/github-to-lagrange-tool'},\n",
       "  {'name': 'Grav',\n",
       "   'url': 'https://github.com/swanchain/awesome-swanchain/tree/main/Grav'},\n",
       "  {'name': 'adminer',\n",
       "   'url': 'https://github.com/swanchain/awesome-swanchain/tree/main/adminer'},\n",
       "  {'name': 'Baichuan2-13b-LLM-Chat',\n",
       "   'url': 'https://github.com/swanchain/awesome-swanchain/tree/main/Baichuan2-13b-LLM-Chat'},\n",
       "  {'name': 'Adventure_Game',\n",
       "   'url': 'https://github.com/swanchain/awesome-swanchain/tree/main/Adventure_Game'},\n",
       "  {'name': 'Alien_Shooters',\n",
       "   'url': 'https://github.com/swanchain/awesome-swanchain/tree/main/Alien_Shooters'},\n",
       "  {'name': 'Llama2-13B-LLM-Chat',\n",
       "   'url': 'https://github.com/swanchain/awesome-swanchain/tree/main/Llama2-13B-LLM-Chat'},\n",
       "  {'name': 'game-multiply-defense',\n",
       "   'url': 'https://github.com/swanchain/awesome-swanchain/tree/main/game-multiply-defense'},\n",
       "  {'name': 'couchdb',\n",
       "   'url': 'https://github.com/swanchain/awesome-swanchain/tree/main/couchdb'},\n",
       "  {'name': 'aleo-zklion',\n",
       "   'url': 'https://github.com/swanchain/awesome-swanchain/tree/main/aleo-zklion'},\n",
       "  {'name': 'hello_world',\n",
       "   'url': 'https://github.com/swanchain/awesome-swanchain/tree/main/hello_world'},\n",
       "  {'name': 'aleo-f2pool-gpu',\n",
       "   'url': 'https://github.com/swanchain/awesome-swanchain/tree/main/aleo-f2pool-gpu'},\n",
       "  {'name': 'Memory',\n",
       "   'url': 'https://github.com/swanchain/awesome-swanchain/tree/main/Memory'},\n",
       "  {'name': 'AI-FastChat-13B',\n",
       "   'url': 'https://github.com/swanchain/awesome-swanchain/tree/main/AI-FastChat-13B'},\n",
       "  {'name': 'folding-at-home',\n",
       "   'url': 'https://github.com/swanchain/awesome-swanchain/tree/main/folding-at-home'},\n",
       "  {'name': 'drupal',\n",
       "   'url': 'https://github.com/swanchain/awesome-swanchain/tree/main/drupal'},\n",
       "  {'name': 'whoogle-search',\n",
       "   'url': 'https://github.com/swanchain/awesome-swanchain/tree/main/whoogle-search'},\n",
       "  {'name': 'lightspeed',\n",
       "   'url': 'https://github.com/swanchain/awesome-swanchain/tree/main/lightspeed'},\n",
       "  {'name': 'comfyUI',\n",
       "   'url': 'https://github.com/swanchain/awesome-swanchain/tree/main/comfyUI'},\n",
       "  {'name': '16_Puzzle',\n",
       "   'url': 'https://github.com/swanchain/awesome-swanchain/tree/main/16_Puzzle'},\n",
       "  {'name': 'IPFS',\n",
       "   'url': 'https://github.com/swanchain/awesome-swanchain/tree/main/IPFS'},\n",
       "  {'name': 'dfed',\n",
       "   'url': 'https://github.com/swanchain/awesome-swanchain/tree/main/dfed'},\n",
       "  {'name': 'game-breaklock',\n",
       "   'url': 'https://github.com/swanchain/awesome-swanchain/tree/main/game-breaklock'},\n",
       "  {'name': 'tetris2',\n",
       "   'url': 'https://github.com/swanchain/awesome-swanchain/tree/main/tetris2'},\n",
       "  {'name': 'game-ball-shooting',\n",
       "   'url': 'https://github.com/swanchain/awesome-swanchain/tree/main/game-ball-shooting'},\n",
       "  {'name': 'LuaSwap.',\n",
       "   'url': 'https://github.com/swanchain/awesome-swanchain/tree/main/LuaSwap.'},\n",
       "  {'name': 'dart',\n",
       "   'url': 'https://github.com/swanchain/awesome-swanchain/tree/main/dart'},\n",
       "  {'name': 'game-connect3',\n",
       "   'url': 'https://github.com/swanchain/awesome-swanchain/tree/main/game-connect3'},\n",
       "  {'name': 'Tetris',\n",
       "   'url': 'https://github.com/swanchain/awesome-swanchain/tree/main/Tetris'},\n",
       "  {'name': 'Json_viewer',\n",
       "   'url': 'https://github.com/swanchain/awesome-swanchain/tree/main/Json_viewer'},\n",
       "  {'name': 'goosebin',\n",
       "   'url': 'https://github.com/swanchain/awesome-swanchain/tree/main/goosebin'},\n",
       "  {'name': 'AI-DiscoArt',\n",
       "   'url': 'https://github.com/swanchain/awesome-swanchain/tree/main/AI-DiscoArt'},\n",
       "  {'name': 'Dharani',\n",
       "   'url': 'https://github.com/swanchain/awesome-swanchain/tree/main/Dharani'},\n",
       "  {'name': 'AirBalloon',\n",
       "   'url': 'https://github.com/swanchain/awesome-swanchain/tree/main/AirBalloon'},\n",
       "  {'name': 'game-basketballstars',\n",
       "   'url': 'https://github.com/swanchain/awesome-swanchain/tree/main/game-basketballstars'},\n",
       "  {'name': 'minesweeper',\n",
       "   'url': 'https://github.com/swanchain/awesome-swanchain/tree/main/minesweeper'},\n",
       "  {'name': 'Llama3-8B-LLM-Chat',\n",
       "   'url': 'https://github.com/swanchain/awesome-swanchain/tree/main/Llama3-8B-LLM-Chat'},\n",
       "  {'name': 'Serge-LLaMA',\n",
       "   'url': 'https://github.com/swanchain/awesome-swanchain/tree/main/Serge-LLaMA'},\n",
       "  {'name': 'pgadmin4',\n",
       "   'url': 'https://github.com/swanchain/awesome-swanchain/tree/main/pgadmin4'},\n",
       "  {'name': 'game-css3-matching-game',\n",
       "   'url': 'https://github.com/swanchain/awesome-swanchain/tree/main/game-css3-matching-game'},\n",
       "  {'name': 'AI-FastApi',\n",
       "   'url': 'https://github.com/swanchain/awesome-swanchain/tree/main/AI-FastApi'},\n",
       "  {'name': 'Curve',\n",
       "   'url': 'https://github.com/swanchain/awesome-swanchain/tree/main/Curve'},\n",
       "  {'name': 'AI-Dalle-4k',\n",
       "   'url': 'https://github.com/swanchain/awesome-swanchain/tree/main/AI-Dalle-4k'},\n",
       "  {'name': 'Event_Timer',\n",
       "   'url': 'https://github.com/swanchain/awesome-swanchain/tree/main/Event_Timer'},\n",
       "  {'name': 'microbox',\n",
       "   'url': 'https://github.com/swanchain/awesome-swanchain/tree/main/microbox'},\n",
       "  {'name': 'Terminal',\n",
       "   'url': 'https://github.com/swanchain/awesome-swanchain/tree/main/Terminal'},\n",
       "  {'name': 'grafana',\n",
       "   'url': 'https://github.com/swanchain/awesome-swanchain/tree/main/grafana'},\n",
       "  {'name': 'Wiki',\n",
       "   'url': 'https://github.com/swanchain/awesome-swanchain/tree/main/Wiki'},\n",
       "  {'name': 'game-cuttheropetimetravel',\n",
       "   'url': 'https://github.com/swanchain/awesome-swanchain/tree/main/game-cuttheropetimetravel'},\n",
       "  {'name': 'Lagrange-HelloWrold',\n",
       "   'url': 'https://github.com/swanchain/awesome-swanchain/tree/main/Lagrange-HelloWrold'},\n",
       "  {'name': 'lunie-lite',\n",
       "   'url': 'https://github.com/swanchain/awesome-swanchain/tree/main/lunie-lite'},\n",
       "  {'name': 'dego-stats',\n",
       "   'url': 'https://github.com/swanchain/awesome-swanchain/tree/main/dego-stats'},\n",
       "  {'name': 'mongoDB',\n",
       "   'url': 'https://github.com/swanchain/awesome-swanchain/tree/main/mongoDB'},\n",
       "  {'name': 'ufo-data-vis',\n",
       "   'url': 'https://github.com/swanchain/awesome-swanchain/tree/main/ufo-data-vis'},\n",
       "  {'name': 'aleo-zkrush',\n",
       "   'url': 'https://github.com/swanchain/awesome-swanchain/tree/main/aleo-zkrush'},\n",
       "  {'name': 'realtime-whisper-webgpu',\n",
       "   'url': 'https://github.com/swanchain/awesome-swanchain/tree/main/realtime-whisper-webgpu'},\n",
       "  {'name': 'OpenSpeed',\n",
       "   'url': 'https://github.com/swanchain/awesome-swanchain/tree/main/OpenSpeed'},\n",
       "  {'name': 'influxdb',\n",
       "   'url': 'https://github.com/swanchain/awesome-swanchain/tree/main/influxdb'},\n",
       "  {'name': 'Osmosis',\n",
       "   'url': 'https://github.com/swanchain/awesome-swanchain/tree/main/Osmosis'},\n",
       "  {'name': 'stable-diffusion',\n",
       "   'url': 'https://github.com/swanchain/awesome-swanchain/tree/main/stable-diffusion'},\n",
       "  {'name': 'game-rush',\n",
       "   'url': 'https://github.com/swanchain/awesome-swanchain/tree/main/game-rush'},\n",
       "  {'name': 'AI-FastApi-GPU',\n",
       "   'url': 'https://github.com/swanchain/awesome-swanchain/tree/main/AI-FastApi-GPU'},\n",
       "  {'name': 'Json-View',\n",
       "   'url': 'https://github.com/swanchain/awesome-swanchain/tree/main/Json-View'},\n",
       "  {'name': 'Chatglm3-LLM-6b-Chat',\n",
       "   'url': 'https://github.com/swanchain/awesome-swanchain/tree/main/Chatglm3-LLM-6b-Chat'},\n",
       "  {'name': '2048-game',\n",
       "   'url': 'https://github.com/swanchain/awesome-swanchain/tree/main/2048-game'},\n",
       "  {'name': 'knowyourdefi',\n",
       "   'url': 'https://github.com/swanchain/awesome-swanchain/tree/main/knowyourdefi'},\n",
       "  {'name': 'code-server',\n",
       "   'url': 'https://github.com/swanchain/awesome-swanchain/tree/main/code-server'},\n",
       "  {'name': 'Jira',\n",
       "   'url': 'https://github.com/swanchain/awesome-swanchain/tree/main/Jira'},\n",
       "  {'name': 'stable-diffusion-webui',\n",
       "   'url': 'https://github.com/swanchain/awesome-swanchain/tree/main/stable-diffusion-webui'},\n",
       "  {'name': '3d_Snake',\n",
       "   'url': 'https://github.com/swanchain/awesome-swanchain/tree/main/3d_Snake'},\n",
       "  {'name': 'doccano',\n",
       "   'url': 'https://github.com/swanchain/awesome-swanchain/tree/main/doccano'},\n",
       "  {'name': 'f4_address_converter',\n",
       "   'url': 'https://github.com/swanchain/awesome-swanchain/tree/main/f4_address_converter'},\n",
       "  {'name': 'dos_game',\n",
       "   'url': 'https://github.com/swanchain/awesome-swanchain/tree/main/dos_game'},\n",
       "  {'name': 'game-box2d-car-game',\n",
       "   'url': 'https://github.com/swanchain/awesome-swanchain/tree/main/game-box2d-car-game'},\n",
       "  {'name': 'balancer',\n",
       "   'url': 'https://github.com/swanchain/awesome-swanchain/tree/main/balancer'},\n",
       "  {'name': 'flame',\n",
       "   'url': 'https://github.com/swanchain/awesome-swanchain/tree/main/flame'},\n",
       "  {'name': 'Periodic-Table-Creator',\n",
       "   'url': 'https://github.com/swanchain/awesome-swanchain/tree/main/Periodic-Table-Creator'},\n",
       "  {'name': 'AI_CHESS_Game',\n",
       "   'url': 'https://github.com/swanchain/awesome-swanchain/tree/main/AI_CHESS_Game'},\n",
       "  {'name': 'game-chrome-dino',\n",
       "   'url': 'https://github.com/swanchain/awesome-swanchain/tree/main/game-chrome-dino'},\n",
       "  {'name': 'uma-protocol',\n",
       "   'url': 'https://github.com/swanchain/awesome-swanchain/tree/main/uma-protocol'},\n",
       "  {'name': 'game-pingpoing',\n",
       "   'url': 'https://github.com/swanchain/awesome-swanchain/tree/main/game-pingpoing'},\n",
       "  {'name': 'tronwallet',\n",
       "   'url': 'https://github.com/swanchain/awesome-swanchain/tree/main/tronwallet'},\n",
       "  {'name': 'bancor',\n",
       "   'url': 'https://github.com/swanchain/awesome-swanchain/tree/main/bancor'},\n",
       "  {'name': 'renprotocol',\n",
       "   'url': 'https://github.com/swanchain/awesome-swanchain/tree/main/renprotocol'},\n",
       "  {'name': 'confluence',\n",
       "   'url': 'https://github.com/swanchain/awesome-swanchain/tree/main/confluence'},\n",
       "  {'name': 'AI-Text-Generation',\n",
       "   'url': 'https://github.com/swanchain/awesome-swanchain/tree/main/AI-Text-Generation'},\n",
       "  {'name': 'Synthetix',\n",
       "   'url': 'https://github.com/swanchain/awesome-swanchain/tree/main/Synthetix'},\n",
       "  {'name': 'Aim_Training',\n",
       "   'url': 'https://github.com/swanchain/awesome-swanchain/tree/main/Aim_Training'},\n",
       "  {'name': 'nextjs',\n",
       "   'url': 'https://github.com/swanchain/awesome-swanchain/tree/main/nextjs'},\n",
       "  {'name': 'game-cuttheropeholiday',\n",
       "   'url': 'https://github.com/swanchain/awesome-swanchain/tree/main/game-cuttheropeholiday'},\n",
       "  {'name': 'MyEtherWallet',\n",
       "   'url': 'https://github.com/swanchain/awesome-swanchain/tree/main/MyEtherWallet'},\n",
       "  {'name': 'game-astray',\n",
       "   'url': 'https://github.com/swanchain/awesome-swanchain/tree/main/game-astray'},\n",
       "  {'name': 'steemcn',\n",
       "   'url': 'https://github.com/swanchain/awesome-swanchain/tree/main/steemcn'},\n",
       "  {'name': 'game-crossyroad',\n",
       "   'url': 'https://github.com/swanchain/awesome-swanchain/tree/main/game-crossyroad'},\n",
       "  {'name': 'mattermost',\n",
       "   'url': 'https://github.com/swanchain/awesome-swanchain/tree/main/mattermost'},\n",
       "  {'name': 'game-chess',\n",
       "   'url': 'https://github.com/swanchain/awesome-swanchain/tree/main/game-chess'},\n",
       "  {'name': 'zokrates-demo',\n",
       "   'url': 'https://github.com/swanchain/awesome-swanchain/tree/main/zokrates-demo'},\n",
       "  {'name': 'sushiswap',\n",
       "   'url': 'https://github.com/swanchain/awesome-swanchain/tree/main/sushiswap'},\n",
       "  {'name': 'zk-email',\n",
       "   'url': 'https://github.com/swanchain/awesome-swanchain/tree/main/zk-email'},\n",
       "  {'name': 'game-breakout',\n",
       "   'url': 'https://github.com/swanchain/awesome-swanchain/tree/main/game-breakout'},\n",
       "  {'name': 'aleo-cpu-f2pool',\n",
       "   'url': 'https://github.com/swanchain/awesome-swanchain/tree/main/aleo-cpu-f2pool'},\n",
       "  {'name': 'Yearn.finance',\n",
       "   'url': 'https://github.com/swanchain/awesome-swanchain/tree/main/Yearn.finance'},\n",
       "  {'name': 'ChainNode',\n",
       "   'url': 'https://github.com/swanchain/awesome-swanchain/tree/main/ChainNode'},\n",
       "  {'name': 'game-asteroids',\n",
       "   'url': 'https://github.com/swanchain/awesome-swanchain/tree/main/game-asteroids'},\n",
       "  {'name': 'game-canvas-untangle-game',\n",
       "   'url': 'https://github.com/swanchain/awesome-swanchain/tree/main/game-canvas-untangle-game'},\n",
       "  {'name': 'mintr',\n",
       "   'url': 'https://github.com/swanchain/awesome-swanchain/tree/main/mintr'},\n",
       "  {'name': 'game-of-life',\n",
       "   'url': 'https://github.com/swanchain/awesome-swanchain/tree/main/game-of-life'},\n",
       "  {'name': 'Google-gemma-7B-LLM-Chat',\n",
       "   'url': 'https://github.com/swanchain/awesome-swanchain/tree/main/Google-gemma-7B-LLM-Chat'},\n",
       "  {'name': 'Jupyter_Notebook',\n",
       "   'url': 'https://github.com/swanchain/awesome-swanchain/tree/main/Jupyter_Notebook'},\n",
       "  {'name': 'game-amongus',\n",
       "   'url': 'https://github.com/swanchain/awesome-swanchain/tree/main/game-amongus'},\n",
       "  {'name': 'supermario',\n",
       "   'url': 'https://github.com/swanchain/awesome-swanchain/tree/main/supermario'},\n",
       "  {'name': 'Qwen2-LLM-7b',\n",
       "   'url': 'https://github.com/swanchain/awesome-swanchain/tree/main/Qwen2-LLM-7b'},\n",
       "  {'name': 'quill-editor',\n",
       "   'url': 'https://github.com/swanchain/awesome-swanchain/tree/main/quill-editor'},\n",
       "  {'name': 'jupyter',\n",
       "   'url': 'https://github.com/swanchain/awesome-swanchain/tree/main/jupyter'},\n",
       "  {'name': 'caddy',\n",
       "   'url': 'https://github.com/swanchain/awesome-swanchain/tree/main/caddy'},\n",
       "  {'name': '2D_Breakout',\n",
       "   'url': 'https://github.com/swanchain/awesome-swanchain/tree/main/2D_Breakout'},\n",
       "  {'name': 'keycloak-iam',\n",
       "   'url': 'https://github.com/swanchain/awesome-swanchain/tree/main/keycloak-iam'},\n",
       "  {'name': 'thirdweb',\n",
       "   'url': 'https://github.com/swanchain/awesome-swanchain/tree/main/thirdweb'},\n",
       "  {'name': 'game-bounceback',\n",
       "   'url': 'https://github.com/swanchain/awesome-swanchain/tree/main/game-bounceback'},\n",
       "  {'name': 'game-chromaincident',\n",
       "   'url': 'https://github.com/swanchain/awesome-swanchain/tree/main/game-chromaincident'}],\n",
       " 'message': 'Getting all example code mappings successfully',\n",
       " 'status': 'success'}"
      ]
     },
     "execution_count": 5,
     "metadata": {},
     "output_type": "execute_result"
    }
   ],
   "execution_count": 5
  },
  {
   "cell_type": "markdown",
   "metadata": {},
   "source": [
    "### Estimate Payment amount (optional)\n",
    "\n",
    "Estimate the cost of deploying the task on specified hardware for duration (in seconds)"
   ]
  },
  {
   "cell_type": "code",
   "metadata": {
    "ExecuteTime": {
     "end_time": "2024-08-19T19:27:11.648703Z",
     "start_time": "2024-08-19T19:27:11.449807Z"
    }
   },
   "source": [
    "duration = 3600 # 1 hour or 3600 seconds\n",
    "\n",
    "amount = swan_orchestrator.estimate_payment(\n",
    "    duration=duration, # Optional: Defaults to 3600 seconds or 1 hour\n",
    "    hardware_id=hardware_id, # Optional: Defaults to 0 (free tier)\n",
    ")\n",
    "\n",
    "print(amount)"
   ],
   "outputs": [
    {
     "name": "stdout",
     "output_type": "stream",
     "text": [
      "0\n"
     ]
    }
   ],
   "execution_count": 6
  },
  {
   "cell_type": "markdown",
   "metadata": {},
   "source": [
    "## Auto Pay Path"
   ]
  },
  {
   "cell_type": "markdown",
   "metadata": {},
   "source": [
    "### Create task (auto_pay)\n",
    "\n",
    "This step creates, pays and deploys task. It also gets `task_uuid`, which is useful in task info steps.\n",
    "\n",
    "`wallet_address` is mandatory. `job_source_uri` is mandatory in this demo, please check out example-demo-prebuilt-image if deploying prebuilt images with `image_name`.\n",
    "\n",
    "In this section, `private_key` is mandatory. If you do not want to use `private_key` and pay through SDK, please check out [create task with no auto_pay](#Create-task-(No-auto_pay))\n",
    "\n",
    "`job_source_uri` is repository url of code to be deployed, must contain a must contain a dockerfile"
   ]
  },
  {
   "cell_type": "code",
   "metadata": {
    "ExecuteTime": {
     "end_time": "2024-08-19T19:27:23.404631Z",
     "start_time": "2024-08-19T19:27:11.649562Z"
    }
   },
   "source": [
    "# job_source_uri = '<github repository url or lagrange space url of code to be deployed>'\n",
    "\n",
    "# Demo example: uncomment to use\n",
    "# job_source_uri = 'https://swanhub-cali.swanchain.io/spaces/0ab9e744-f75b-4bfe-8366-35eac0a8dfa6'\n",
    "\n",
    "result = swan_orchestrator.create_task(\n",
    "    wallet_address=wallet_address,\n",
    "    # job_source_uri=job_source_uri,\n",
    "    app_repo_image='tetris',\n",
    "    auto_pay=True, # Optional: Defaults to false, but in this section's path, set to True\n",
    "    private_key=private_key,\n",
    "    hardware_id=0, # Optional: Defaults to 0 (free tier)\n",
    "    region='global', # Optional: Defaults to global\n",
    "    duration=3600, # Optional: Defaults to 3600 seconds\n",
    ")\n",
    "\n",
    "print(json.dumps(result, indent=2))\n",
    "\n",
    "# Store the task_uuid of created task\n",
    "task_uuid = result['id']"
   ],
   "outputs": [
    {
     "name": "stderr",
     "output_type": "stream",
     "text": [
      "2024-08-19 15:27:11,774 - INFO - Using C1ae.small machine, hardware_id=0 region='global' duration=3600 (seconds)\n",
      "2024-08-19 15:27:20,063 - INFO - Payment submitted, task_uuid='4c81e94f-90de-42c8-a4c7-d51ab8f194de', duration=3600, hardware_id=0. Got tx_hash='0x9f95f2dce6e3dbf6d35671839655bb08e2c633183a923ec1e9cae6db426a3f56'\n",
      "2024-08-19 15:27:23,389 - INFO - Payment validation request sent, task_uuid='4c81e94f-90de-42c8-a4c7-d51ab8f194de', tx_hash='0x9f95f2dce6e3dbf6d35671839655bb08e2c633183a923ec1e9cae6db426a3f56'\n",
      "2024-08-19 15:27:23,395 - INFO - Payment submitted and validated successfully, task_uuid='4c81e94f-90de-42c8-a4c7-d51ab8f194de', tx_hash='0x9f95f2dce6e3dbf6d35671839655bb08e2c633183a923ec1e9cae6db426a3f56'\n",
      "2024-08-19 15:27:23,397 - INFO - Task created successfully, task_uuid='4c81e94f-90de-42c8-a4c7-d51ab8f194de', tx_hash='0x9f95f2dce6e3dbf6d35671839655bb08e2c633183a923ec1e9cae6db426a3f56'\n"
     ]
    },
    {
     "name": "stdout",
     "output_type": "stream",
     "text": [
      "{\n",
      "  \"data\": {\n",
      "    \"config_id\": 1,\n",
      "    \"created_at\": 1724095632,\n",
      "    \"duration\": 3600,\n",
      "    \"ended_at\": null,\n",
      "    \"error_code\": null,\n",
      "    \"id\": 248,\n",
      "    \"order_type\": \"Creation\",\n",
      "    \"preferred_cp_list\": null,\n",
      "    \"refund_tx_hash\": null,\n",
      "    \"region\": \"global\",\n",
      "    \"space_id\": null,\n",
      "    \"start_in\": 300,\n",
      "    \"started_at\": 1724095632,\n",
      "    \"status\": \"pending_payment_confirm\",\n",
      "    \"task_uuid\": \"4c81e94f-90de-42c8-a4c7-d51ab8f194de\",\n",
      "    \"tx_hash\": \"0x9f95f2dce6e3dbf6d35671839655bb08e2c633183a923ec1e9cae6db426a3f56\",\n",
      "    \"updated_at\": 1724095643,\n",
      "    \"uuid\": \"9f0c5b6c-ccb1-4224-bd19-4f5d5d7e1ea8\"\n",
      "  },\n",
      "  \"message\": \"Query order status success.\",\n",
      "  \"status\": \"success\",\n",
      "  \"tx_hash\": \"0x9f95f2dce6e3dbf6d35671839655bb08e2c633183a923ec1e9cae6db426a3f56\",\n",
      "  \"id\": \"4c81e94f-90de-42c8-a4c7-d51ab8f194de\",\n",
      "  \"task_uuid\": \"4c81e94f-90de-42c8-a4c7-d51ab8f194de\"\n",
      "}\n"
     ]
    }
   ],
   "execution_count": 7
  },
  {
   "cell_type": "code",
   "metadata": {
    "ExecuteTime": {
     "end_time": "2024-08-19T19:27:23.549851Z",
     "start_time": "2024-08-19T19:27:23.408087Z"
    }
   },
   "source": [
    "# Check task info\n",
    "info = swan_orchestrator.get_deployment_info(task_uuid=task_uuid)\n",
    "print(json.dumps(info, indent=2))"
   ],
   "outputs": [
    {
     "name": "stdout",
     "output_type": "stream",
     "text": [
      "{\n",
      "  \"data\": {\n",
      "    \"computing_providers\": [],\n",
      "    \"jobs\": [],\n",
      "    \"task\": {\n",
      "      \"comments\": null,\n",
      "      \"created_at\": 1724095632,\n",
      "      \"end_at\": 1724099232,\n",
      "      \"id\": 243,\n",
      "      \"leading_job_id\": null,\n",
      "      \"name\": null,\n",
      "      \"refund_amount\": null,\n",
      "      \"refund_wallet\": \"0x08ae4dAb3f8B46B9787857E59Cad59af9C650916\",\n",
      "      \"source\": \"v2\",\n",
      "      \"start_at\": 1724095632,\n",
      "      \"start_in\": 300,\n",
      "      \"status\": \"initialized\",\n",
      "      \"task_detail\": {\n",
      "        \"amount\": 0.0,\n",
      "        \"bidder_limit\": 3,\n",
      "        \"created_at\": 1724095632,\n",
      "        \"dcc_selected_cp_list\": null,\n",
      "        \"duration\": 3600,\n",
      "        \"end_at\": 1724099232,\n",
      "        \"hardware\": \"C1ae.small\",\n",
      "        \"job_result_uri\": null,\n",
      "        \"job_source_uri\": \"https://swanhub-cali.swanchain.io/spaces/f36176e0-1b33-4da3-b2d2-9d185e46b628\",\n",
      "        \"price_per_hour\": \"0.0\",\n",
      "        \"requirements\": {\n",
      "          \"hardware\": \"None\",\n",
      "          \"hardware_type\": \"CPU\",\n",
      "          \"memory\": \"2\",\n",
      "          \"preferred_cp_list\": null,\n",
      "          \"region\": \"global\",\n",
      "          \"storage\": null,\n",
      "          \"update_max_lag\": null,\n",
      "          \"vcpu\": \"2\"\n",
      "        },\n",
      "        \"space\": {\n",
      "          \"activeOrder\": {\n",
      "            \"config\": {\n",
      "              \"description\": \"CPU only \\u00b7 2 vCPU \\u00b7 2 GiB\",\n",
      "              \"hardware\": \"CPU only\",\n",
      "              \"hardware_id\": 0,\n",
      "              \"hardware_type\": \"CPU\",\n",
      "              \"memory\": 2,\n",
      "              \"name\": \"C1ae.small\",\n",
      "              \"price_per_hour\": 0.0,\n",
      "              \"vcpu\": 2\n",
      "            }\n",
      "          },\n",
      "          \"name\": \"0\",\n",
      "          \"uuid\": \"a06e636c-14a4-4823-8c50-715a900f6625\"\n",
      "        },\n",
      "        \"start_at\": 1724095632,\n",
      "        \"status\": \"paid\",\n",
      "        \"storage_source\": \"swanhub\",\n",
      "        \"type\": \"None\",\n",
      "        \"updated_at\": 1724095632\n",
      "      },\n",
      "      \"task_detail_cid\": \"https://plutotest.acl.swanipfs.com/ipfs/QmaNfB3hkQVtLH37dvu5w4UPJUQ4rsH6hw4f1HTKKnppkN\",\n",
      "      \"tx_hash\": null,\n",
      "      \"type\": \"None\",\n",
      "      \"updated_at\": 1724095643,\n",
      "      \"user_id\": 5,\n",
      "      \"uuid\": \"4c81e94f-90de-42c8-a4c7-d51ab8f194de\"\n",
      "    }\n",
      "  },\n",
      "  \"message\": \"fetch task info for task_uuid='4c81e94f-90de-42c8-a4c7-d51ab8f194de' successfully\",\n",
      "  \"status\": \"success\"\n",
      "}\n"
     ]
    }
   ],
   "execution_count": 8
  },
  {
   "cell_type": "markdown",
   "metadata": {},
   "source": [
    "### renew task (auto-pay) (optional)\n",
    "\n",
    "Extend `task_uuid` by `duration`. Using auto pay automatically makes a transaction to SWAN contract and extends the task."
   ]
  },
  {
   "cell_type": "code",
   "metadata": {
    "ExecuteTime": {
     "end_time": "2024-08-19T19:27:30.364455Z",
     "start_time": "2024-08-19T19:27:23.552618Z"
    }
   },
   "source": [
    "renew_task = swan_orchestrator.renew_task(\n",
    "    task_uuid=task_uuid, \n",
    "    duration=60, # Optional: Defaults to 3600 seconds (1 hour)\n",
    "    auto_pay=True, # Optional: Defaults to False, in this demo path set to True\n",
    "    private_key=private_key,\n",
    "    hardware_id=hardware_id # Optional: Defaults to 0 (free tier)\n",
    ")\n",
    "\n",
    "if renew_task and renew_task['status'] == 'success':\n",
    "    print(f\"successfully renewed task\")"
   ],
   "outputs": [
    {
     "name": "stderr",
     "output_type": "stream",
     "text": [
      "2024-08-19 15:27:30,112 - INFO - Payment submitted, task_uuid='4c81e94f-90de-42c8-a4c7-d51ab8f194de', duration=60, hardware_id=0. Got tx_hash='0xde4d009fa2c58b9800cd7936c41f6c01ccbc6e823db73a458a24b84a96059178'\n",
      "2024-08-19 15:27:30,360 - INFO - Task renewal request sent successfully, task_uuid='4c81e94f-90de-42c8-a4c7-d51ab8f194de' tx_hash='0xde4d009fa2c58b9800cd7936c41f6c01ccbc6e823db73a458a24b84a96059178', duration=60\n"
     ]
    },
    {
     "name": "stdout",
     "output_type": "stream",
     "text": [
      "successfully renewed task\n"
     ]
    }
   ],
   "execution_count": 9
  },
  {
   "cell_type": "markdown",
   "metadata": {},
   "source": [
    "If completed steps above, please go to [View Deployed Task Results](#View-Deployed-Task-Results) to view results, or [terminate task](#terminate-task) for more functions related to tasks"
   ]
  },
  {
   "cell_type": "markdown",
   "metadata": {},
   "source": [
    "## No Auto Pay Path"
   ]
  },
  {
   "cell_type": "markdown",
   "metadata": {},
   "source": [
    "### Create task (No auto_pay)\n",
    "\n",
    "This creates task, but does not pay or deploy task. It gets `task_uuid`, which is useful in payment steps.\n",
    "\n",
    "`wallet_address` is mandatory. `job_source_uri` is mandatory in this demo, please check out example-demo-prebuilt-image if deploying prebuilt images.\n",
    "\n",
    "`job_source_uri` is repository url of code to be deployed, must contain a must contain a dockerfile"
   ]
  },
  {
   "cell_type": "code",
   "metadata": {
    "ExecuteTime": {
     "end_time": "2024-08-19T19:27:30.897769Z",
     "start_time": "2024-08-19T19:27:30.370670Z"
    }
   },
   "source": [
    "job_source_uri = '<github repository url or lagrange space url of code to be deployed>'\n",
    "\n",
    "# Demo example: uncomment to use\n",
    "# job_source_uri = 'https://github.com/alphaflows/tetris-docker-image.git'\n",
    "\n",
    "result = swan_orchestrator.create_task(\n",
    "    wallet_address=wallet_address,\n",
    "    job_source_uri=job_source_uri,\n",
    "    hardware_id=hardware_id, # Optional: Defaults to 0 (free tier)\n",
    "    region='global', # Optional: Defaults to global\n",
    "    duration=duration, # Optional: Defaults to 3600 seconds\n",
    "    auto_pay=False, # Optional: Defaults to false\n",
    ")\n",
    "\n",
    "print(json.dumps(result, indent=2))\n",
    "\n",
    "# Store the task_uuid of created task\n",
    "task_uuid = result['id']"
   ],
   "outputs": [
    {
     "name": "stderr",
     "output_type": "stream",
     "text": [
      "2024-08-19 15:27:30,550 - INFO - Using C1ae.small machine, hardware_id=0 region='global' duration=3600 (seconds)\n",
      "2024-08-19 15:27:30,895 - INFO - Task created successfully, task_uuid='6571cb3b-9964-49bb-a1d5-29465430eef4', tx_hash=None\n"
     ]
    },
    {
     "name": "stdout",
     "output_type": "stream",
     "text": [
      "{\n",
      "  \"data\": {\n",
      "    \"task\": {\n",
      "      \"comments\": null,\n",
      "      \"created_at\": 1724095650,\n",
      "      \"end_at\": 1724099250,\n",
      "      \"id\": 244,\n",
      "      \"leading_job_id\": null,\n",
      "      \"name\": null,\n",
      "      \"refund_amount\": null,\n",
      "      \"refund_wallet\": \"0x08ae4dAb3f8B46B9787857E59Cad59af9C650916\",\n",
      "      \"source\": \"v2\",\n",
      "      \"start_at\": 1724095650,\n",
      "      \"start_in\": 300,\n",
      "      \"status\": \"initialized\",\n",
      "      \"task_detail\": {\n",
      "        \"amount\": null,\n",
      "        \"bidder_limit\": 3,\n",
      "        \"created_at\": 1724095650,\n",
      "        \"dcc_selected_cp_list\": null,\n",
      "        \"duration\": 3600,\n",
      "        \"end_at\": 1724099250,\n",
      "        \"hardware\": \"C1ae.small\",\n",
      "        \"job_result_uri\": null,\n",
      "        \"job_source_uri\": \"<github repository url or lagrange space url of code to be deployed>\",\n",
      "        \"price_per_hour\": \"0.0\",\n",
      "        \"requirements\": {\n",
      "          \"hardware\": \"None\",\n",
      "          \"hardware_type\": \"CPU\",\n",
      "          \"memory\": \"2\",\n",
      "          \"preferred_cp_list\": null,\n",
      "          \"region\": \"global\",\n",
      "          \"storage\": null,\n",
      "          \"update_max_lag\": null,\n",
      "          \"vcpu\": \"2\"\n",
      "        },\n",
      "        \"space\": {\n",
      "          \"activeOrder\": {\n",
      "            \"config\": {\n",
      "              \"description\": \"CPU only \\u00b7 2 vCPU \\u00b7 2 GiB\",\n",
      "              \"hardware\": \"CPU only\",\n",
      "              \"hardware_id\": 0,\n",
      "              \"hardware_type\": \"CPU\",\n",
      "              \"memory\": 2,\n",
      "              \"name\": \"C1ae.small\",\n",
      "              \"price_per_hour\": 0.0,\n",
      "              \"vcpu\": 2\n",
      "            }\n",
      "          },\n",
      "          \"name\": \"0\",\n",
      "          \"uuid\": \"cfab2c62-1589-4ecc-b245-28415ba1a92e\"\n",
      "        },\n",
      "        \"start_at\": 1724095650,\n",
      "        \"status\": \"paid\",\n",
      "        \"storage_source\": \"swanhub\",\n",
      "        \"type\": \"None\",\n",
      "        \"updated_at\": 1724095650\n",
      "      },\n",
      "      \"task_detail_cid\": null,\n",
      "      \"tx_hash\": null,\n",
      "      \"type\": \"None\",\n",
      "      \"updated_at\": 1724095650,\n",
      "      \"user_id\": 5,\n",
      "      \"uuid\": \"6571cb3b-9964-49bb-a1d5-29465430eef4\"\n",
      "    }\n",
      "  },\n",
      "  \"message\": \"Task_uuid initialized.\",\n",
      "  \"status\": \"success\",\n",
      "  \"id\": \"6571cb3b-9964-49bb-a1d5-29465430eef4\",\n",
      "  \"task_uuid\": \"6571cb3b-9964-49bb-a1d5-29465430eef4\"\n",
      "}\n"
     ]
    }
   ],
   "execution_count": 10
  },
  {
   "cell_type": "markdown",
   "metadata": {},
   "source": [
    "### Make Payment (Optional)\n",
    "\n",
    "This step is using `task_uuid`, `private_key`,  `duration`, and `hardware_id` to submit payment and make task eligible for assigning if payment successful via swan SDK. `task_uuid`, `private_key` are mandatory.\n",
    "\n",
    "If following this section, please skip to - [View Deployed Task Results](#View-Deployed-Task-Results) next.\n",
    "If do not want to submit payment with swan SDK, and directly made payment to swan contract instead, please move onto next section."
   ]
  },
  {
   "cell_type": "code",
   "metadata": {
    "ExecuteTime": {
     "end_time": "2024-08-19T19:27:41.349248Z",
     "start_time": "2024-08-19T19:27:30.899029Z"
    }
   },
   "source": [
    "if result_validation := swan_orchestrator.make_payment(\n",
    "    task_uuid=task_uuid, \n",
    "    private_key=private_key,\n",
    "    duration=3600, # Optional: Defaults to 3600 seconds (1 hour)\n",
    "    hardware_id=0 # Optional: Defaults to 0 (free tier)\n",
    "):\n",
    "    print(json.dumps(result_validation, indent=2))\n",
    "else:\n",
    "    print('validation failed')"
   ],
   "outputs": [
    {
     "name": "stderr",
     "output_type": "stream",
     "text": [
      "2024-08-19 15:27:38,097 - INFO - Payment submitted, task_uuid='6571cb3b-9964-49bb-a1d5-29465430eef4', duration=3600, hardware_id=0. Got tx_hash='0xa849f7467c62b21103f9647d5d512ee76b1b6e94efdba9bd55e80bedbdb5f445'\n",
      "2024-08-19 15:27:41,347 - INFO - Payment validation request sent, task_uuid='6571cb3b-9964-49bb-a1d5-29465430eef4', tx_hash='0xa849f7467c62b21103f9647d5d512ee76b1b6e94efdba9bd55e80bedbdb5f445'\n",
      "2024-08-19 15:27:41,347 - INFO - Payment submitted and validated successfully, task_uuid='6571cb3b-9964-49bb-a1d5-29465430eef4', tx_hash='0xa849f7467c62b21103f9647d5d512ee76b1b6e94efdba9bd55e80bedbdb5f445'\n"
     ]
    },
    {
     "name": "stdout",
     "output_type": "stream",
     "text": [
      "{\n",
      "  \"data\": {\n",
      "    \"config_id\": 1,\n",
      "    \"created_at\": 1724095650,\n",
      "    \"duration\": 3600,\n",
      "    \"ended_at\": null,\n",
      "    \"error_code\": null,\n",
      "    \"id\": 250,\n",
      "    \"order_type\": \"Creation\",\n",
      "    \"preferred_cp_list\": null,\n",
      "    \"refund_tx_hash\": null,\n",
      "    \"region\": \"global\",\n",
      "    \"space_id\": null,\n",
      "    \"start_in\": 300,\n",
      "    \"started_at\": 1724095650,\n",
      "    \"status\": \"pending_payment_confirm\",\n",
      "    \"task_uuid\": \"6571cb3b-9964-49bb-a1d5-29465430eef4\",\n",
      "    \"tx_hash\": \"0xa849f7467c62b21103f9647d5d512ee76b1b6e94efdba9bd55e80bedbdb5f445\",\n",
      "    \"updated_at\": 1724095661,\n",
      "    \"uuid\": \"3ee228d4-6d5a-4df5-a4dc-8aac58d12f18\"\n",
      "  },\n",
      "  \"message\": \"Query order status success.\",\n",
      "  \"status\": \"success\",\n",
      "  \"tx_hash\": \"0xa849f7467c62b21103f9647d5d512ee76b1b6e94efdba9bd55e80bedbdb5f445\"\n",
      "}\n"
     ]
    }
   ],
   "execution_count": 11
  },
  {
   "cell_type": "markdown",
   "metadata": {},
   "source": [
    "### Validate Payment to deploy task\n",
    "\n",
    "Only use this if paid directly to contract. If used make_payment section above, ignore this section.\n",
    "\n",
    "This step will use `tx_hash` and `task_uuid` to validate the payment and then make task eligible for assigning if validation successful"
   ]
  },
  {
   "cell_type": "markdown",
   "metadata": {},
   "source": [
    "Will Delete the submit_payment code block below in final version"
   ]
  },
  {
   "cell_type": "code",
   "metadata": {
    "ExecuteTime": {
     "end_time": "2024-08-19T19:27:41.535074Z",
     "start_time": "2024-08-19T19:27:41.350226Z"
    }
   },
   "source": [
    "if result_validation := swan_orchestrator.validate_payment(\n",
    "    tx_hash=\"<tx_hash of payment of task_uuid to swan contract>\",\n",
    "    task_uuid=task_uuid\n",
    "):\n",
    "    print(json.dumps(result_validation, indent=2))\n",
    "else:\n",
    "    print('validation failed')"
   ],
   "outputs": [
    {
     "name": "stderr",
     "output_type": "stream",
     "text": [
      "2024-08-19 15:27:41,533 - INFO - Payment validation request sent, task_uuid='6571cb3b-9964-49bb-a1d5-29465430eef4', tx_hash='<tx_hash of payment of task_uuid to swan contract>'\n"
     ]
    },
    {
     "name": "stdout",
     "output_type": "stream",
     "text": [
      "{\n",
      "  \"data\": null,\n",
      "  \"message\": \"Validation error: when sending a str, it must be a hex string. Got: '<tx_hash of payment of task_uuid to swan contract>'\",\n",
      "  \"status\": \"failed\"\n",
      "}\n"
     ]
    }
   ],
   "execution_count": 12
  },
  {
   "cell_type": "markdown",
   "metadata": {},
   "source": [
    "### Renew Task (no auto-pay) (Optional)\n",
    "\n",
    "Extend `task_uuid` by `duration`. `tx_hash` of payment for extension required."
   ]
  },
  {
   "cell_type": "code",
   "metadata": {
    "ExecuteTime": {
     "end_time": "2024-08-19T19:27:41.710344Z",
     "start_time": "2024-08-19T19:27:41.536018Z"
    }
   },
   "source": [
    "renew_task = swan_orchestrator.renew_task(\n",
    "    task_uuid=task_uuid, \n",
    "    duration=60, # Optional: Defaults to 3600 seconds (1 hour)\n",
    "    tx_hash=\"<tx_hash of payment of task_uuid to swan contract>\", # tx_hash of payment to swan contract for this task\n",
    "    hardware_id=hardware_id # Optional: Defaults to 0 (free tier)\n",
    ")\n",
    "\n",
    "if renew_task and renew_task['status'] == 'success':\n",
    "    print(f\"successfully renewed {task_uuid}\")\n",
    "else:\n",
    "    print(f\"Unable to renew {task_uuid}\")"
   ],
   "outputs": [
    {
     "name": "stderr",
     "output_type": "stream",
     "text": [
      "2024-08-19 15:27:41,537 - INFO - Using given payment transaction hash, tx_hash='<tx_hash of payment of task_uuid to swan contract>'\n",
      "2024-08-19 15:27:41,708 - INFO - Task renewal request sent successfully, task_uuid='6571cb3b-9964-49bb-a1d5-29465430eef4' tx_hash='<tx_hash of payment of task_uuid to swan contract>', duration=60\n"
     ]
    },
    {
     "name": "stdout",
     "output_type": "stream",
     "text": [
      "Unable to renew 6571cb3b-9964-49bb-a1d5-29465430eef4\n"
     ]
    }
   ],
   "execution_count": 13
  },
  {
   "cell_type": "markdown",
   "metadata": {},
   "source": [
    "### terminate task (Optional)\n",
    "\n",
    "Terminate the task `task_uuid` and get a refund for remaining time"
   ]
  },
  {
   "cell_type": "code",
   "metadata": {
    "ExecuteTime": {
     "end_time": "2024-08-19T19:27:41.885469Z",
     "start_time": "2024-08-19T19:27:41.711318Z"
    }
   },
   "source": [
    "terminate_status = swan_orchestrator.terminate_task(task_uuid)\n",
    "if terminate_status['status'] == 'success':\n",
    "    print(f\"Terminated {task_uuid} successfully\")\n",
    "else:\n",
    "    print(f\"Failed to terminate {task_uuid}\")"
   ],
   "outputs": [
    {
     "name": "stdout",
     "output_type": "stream",
     "text": [
      "Terminated 6571cb3b-9964-49bb-a1d5-29465430eef4 successfully\n"
     ]
    }
   ],
   "execution_count": 14
  },
  {
   "cell_type": "markdown",
   "metadata": {},
   "source": [
    "### claim review (Optional)\n",
    "\n",
    "Review if `task_uui` uptime is above 90% and give refund if below 90%"
   ]
  },
  {
   "cell_type": "code",
   "metadata": {
    "ExecuteTime": {
     "end_time": "2024-08-19T19:27:42.020345Z",
     "start_time": "2024-08-19T19:27:41.886701Z"
    }
   },
   "source": [
    "claim_review = swan_orchestrator.claim_review(task_uuid)\n",
    "print(claim_review)"
   ],
   "outputs": [
    {
     "name": "stdout",
     "output_type": "stream",
     "text": [
      "{'data': {'error_code': 1012}, 'message': \"task_uuid='6571cb3b-9964-49bb-a1d5-29465430eef4' status (terminated) not `finished`, cannot claim review\", 'status': 'failed'}\n"
     ]
    }
   ],
   "execution_count": 15
  },
  {
   "cell_type": "markdown",
   "metadata": {},
   "source": [
    "## View Deployed Task Results"
   ]
  },
  {
   "cell_type": "markdown",
   "metadata": {},
   "source": [
    "### follow up task status (optional)\n",
    "The following step is optional, shows information when waiting for task being deployed."
   ]
  },
  {
   "cell_type": "code",
   "metadata": {
    "ExecuteTime": {
     "end_time": "2024-08-19T19:27:42.157650Z",
     "start_time": "2024-08-19T19:27:42.021423Z"
    }
   },
   "source": [
    "# Check task info\n",
    "info = swan_orchestrator.get_deployment_info(task_uuid=task_uuid)\n",
    "print(json.dumps(info, indent=2))"
   ],
   "outputs": [
    {
     "name": "stdout",
     "output_type": "stream",
     "text": [
      "{\n",
      "  \"data\": {\n",
      "    \"computing_providers\": [],\n",
      "    \"jobs\": [],\n",
      "    \"task\": {\n",
      "      \"comments\": null,\n",
      "      \"created_at\": 1724095650,\n",
      "      \"end_at\": 1724095661,\n",
      "      \"id\": 244,\n",
      "      \"leading_job_id\": null,\n",
      "      \"name\": null,\n",
      "      \"refund_amount\": null,\n",
      "      \"refund_wallet\": \"0x08ae4dAb3f8B46B9787857E59Cad59af9C650916\",\n",
      "      \"source\": \"v2\",\n",
      "      \"start_at\": 1724095650,\n",
      "      \"start_in\": 300,\n",
      "      \"status\": \"terminated\",\n",
      "      \"task_detail\": {\n",
      "        \"amount\": 0.0,\n",
      "        \"bidder_limit\": 3,\n",
      "        \"created_at\": 1724095650,\n",
      "        \"dcc_selected_cp_list\": null,\n",
      "        \"duration\": 3600,\n",
      "        \"end_at\": 1724099250,\n",
      "        \"hardware\": \"C1ae.small\",\n",
      "        \"job_result_uri\": null,\n",
      "        \"job_source_uri\": \"<github repository url or lagrange space url of code to be deployed>\",\n",
      "        \"price_per_hour\": \"0.0\",\n",
      "        \"requirements\": {\n",
      "          \"hardware\": \"None\",\n",
      "          \"hardware_type\": \"CPU\",\n",
      "          \"memory\": \"2\",\n",
      "          \"preferred_cp_list\": null,\n",
      "          \"region\": \"global\",\n",
      "          \"storage\": null,\n",
      "          \"update_max_lag\": null,\n",
      "          \"vcpu\": \"2\"\n",
      "        },\n",
      "        \"space\": {\n",
      "          \"activeOrder\": {\n",
      "            \"config\": {\n",
      "              \"description\": \"CPU only \\u00b7 2 vCPU \\u00b7 2 GiB\",\n",
      "              \"hardware\": \"CPU only\",\n",
      "              \"hardware_id\": 0,\n",
      "              \"hardware_type\": \"CPU\",\n",
      "              \"memory\": 2,\n",
      "              \"name\": \"C1ae.small\",\n",
      "              \"price_per_hour\": 0.0,\n",
      "              \"vcpu\": 2\n",
      "            }\n",
      "          },\n",
      "          \"name\": \"0\",\n",
      "          \"uuid\": \"cfab2c62-1589-4ecc-b245-28415ba1a92e\"\n",
      "        },\n",
      "        \"start_at\": 1724095650,\n",
      "        \"status\": \"paid\",\n",
      "        \"storage_source\": \"swanhub\",\n",
      "        \"type\": \"None\",\n",
      "        \"updated_at\": 1724095650\n",
      "      },\n",
      "      \"task_detail_cid\": \"https://plutotest.acl.swanipfs.com/ipfs/QmRDqG9c4z5hTjDhD4sb3rcZDrPKwzwUjFQdAzDDVGCmSi\",\n",
      "      \"tx_hash\": null,\n",
      "      \"type\": \"None\",\n",
      "      \"updated_at\": 1724095661,\n",
      "      \"user_id\": 5,\n",
      "      \"uuid\": \"6571cb3b-9964-49bb-a1d5-29465430eef4\"\n",
      "    }\n",
      "  },\n",
      "  \"message\": \"fetch task info for task_uuid='6571cb3b-9964-49bb-a1d5-29465430eef4' successfully\",\n",
      "  \"status\": \"success\"\n",
      "}\n"
     ]
    }
   ],
   "execution_count": 16
  },
  {
   "cell_type": "markdown",
   "metadata": {},
   "source": [
    "### Show result\n",
    "\n",
    "`job_real_uri` is for show the result of application you deployed.  \n",
    "You can put it into the web browser to view application."
   ]
  },
  {
   "cell_type": "code",
   "metadata": {
    "ExecuteTime": {
     "end_time": "2024-08-19T19:27:42.294528Z",
     "start_time": "2024-08-19T19:27:42.158704Z"
    }
   },
   "source": [
    "result_url = swan_orchestrator.get_real_url(task_uuid)\n",
    "print(result_url)"
   ],
   "outputs": [
    {
     "name": "stdout",
     "output_type": "stream",
     "text": [
      "[]\n"
     ]
    }
   ],
   "execution_count": 17
  },
  {
   "cell_type": "markdown",
   "metadata": {},
   "source": [
    "Check the response codes of the result_url"
   ]
  },
  {
   "cell_type": "code",
   "metadata": {
    "ExecuteTime": {
     "end_time": "2024-08-19T19:27:42.298130Z",
     "start_time": "2024-08-19T19:27:42.295416Z"
    }
   },
   "source": [
    "import requests\n",
    "import json\n",
    "\n",
    "headers = {\n",
    "    'Content-Type': 'application/json',\n",
    "}\n",
    "\n",
    "for url in result_url:\n",
    "    response = requests.get(url, headers=headers)\n",
    "\n",
    "    try:\n",
    "        print(json.dumps(response.json(), indent=4))\n",
    "    except Exception as e:\n",
    "        print(e)\n",
    "        print(response)"
   ],
   "outputs": [],
   "execution_count": 18
  }
 ],
 "metadata": {
  "kernelspec": {
   "display_name": "swanchain",
   "language": "python",
   "name": "python3"
  },
  "language_info": {
   "codemirror_mode": {
    "name": "ipython",
    "version": 3
   },
   "file_extension": ".py",
   "mimetype": "text/x-python",
   "name": "python",
   "nbconvert_exporter": "python",
   "pygments_lexer": "ipython3",
   "version": "3.10.0"
  }
 },
 "nbformat": 4,
 "nbformat_minor": 2
}
