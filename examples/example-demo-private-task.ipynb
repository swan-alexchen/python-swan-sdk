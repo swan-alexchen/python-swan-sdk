{
 "cells": [
  {
   "cell_type": "markdown",
   "metadata": {},
   "source": [
    "## Demo for SDK (Lite Version)\n",
    "\n",
    "This example shows how to use SDK to deploy a task using a pre-defined repo source."
   ]
  },
  {
   "cell_type": "markdown",
   "metadata": {},
   "source": [
    "- [Getting Started](#Getting-Started)\n",
    "- [Creating And Deploying Task](#Creating-And-Deploying-Task)\n",
    "    - [Create task](#create-task)\n",
    "- [View Deployed Task Results](#View-Deployed-Task-Results)\n",
    "    - [Follow up task status](#follow-up-task-status-optional)\n",
    "    - [Show result](#show-result)\n",
    "- [Update Task](#update-task-optional)\n",
    "    - [Renew task](#renew-task-optional)\n",
    "    - [Terminate task](#terminate-task-optional)"
   ]
  },
  {
   "cell_type": "markdown",
   "metadata": {},
   "source": [
    "# Getting Started"
   ]
  },
  {
   "cell_type": "markdown",
   "metadata": {},
   "source": [
    "\n",
    "### Initialization\n",
    "\n",
    "To use this SDK, you need to add environment file `.env` in your local directory, including the following parameters (`PK` is private key):\n",
    "\n",
    "```\n",
    "API_KEY=\n",
    "WALLET=\n",
    "PK=\n",
    "```"
   ]
  },
  {
   "cell_type": "code",
   "metadata": {
    "ExecuteTime": {
     "end_time": "2024-08-22T21:01:45.871583Z",
     "start_time": "2024-08-22T21:01:45.037779Z"
    }
   },
   "source": [
    "import pathlib\n",
    "\n",
    "from swan import Orchestrator\n",
    "import sys\n",
    "\n",
    "from swan.object.task import PrivateTask\n",
    "\n",
    "sys.path.insert(0, '..') \n",
    "\n",
    "import os\n",
    "import time\n",
    "import dotenv\n",
    "import json\n",
    "dotenv.load_dotenv()\n",
    "\n",
    "import swan\n",
    "\n",
    "wallet_address = os.getenv('WALLET')\n",
    "private_key = os.getenv('PK')\n",
    "api_key = os.getenv('API_KEY')\n",
    "\n",
    "# for testnet dev\n",
    "# orchestrator: Orchestrator = swan.resource(\n",
    "#     api_key=api_key, \n",
    "#     service_name='Orchestrator', \n",
    "#     login_url='https://swanhub-cali.swanchain.io',      # dev version for testnet login url\n",
    "#     url_endpoint='https://swanhub-cali.swanchain.io'    # dev version for testnet\n",
    "# )\n",
    "# \n",
    "orchestrator: Orchestrator = swan.resource(\n",
    "    api_key=api_key, \n",
    "    service_name='Orchestrator', \n",
    "    login_url='http://localhost:5008',      # dev version for testnet login url\n",
    "    url_endpoint='http://localhost:5008'    # dev version for testnet\n",
    ")\n"
   ],
   "outputs": [
    {
     "name": "stderr",
     "output_type": "stream",
     "text": [
      "2024-08-22 17:01:45,692 - INFO - Login Successfully!\n",
      "2024-08-22 17:01:45,693 - INFO - Using http://localhost:5008\n"
     ]
    }
   ],
   "execution_count": 1
  },
  {
   "cell_type": "code",
   "metadata": {
    "ExecuteTime": {
     "end_time": "2024-08-22T17:38:58.802483Z",
     "start_time": "2024-08-22T17:38:58.799963Z"
    }
   },
   "source": "",
   "outputs": [],
   "execution_count": null
  },
  {
   "cell_type": "markdown",
   "metadata": {},
   "source": [
    "## Creating And Deploying Task"
   ]
  },
  {
   "cell_type": "markdown",
   "metadata": {},
   "source": [
    "Show repository image of pre-defined applications (optional)"
   ]
  },
  {
   "cell_type": "markdown",
   "metadata": {},
   "source": [
    "### Create task\n",
    "\n",
    "Choose a application repository image name from the above list, and provide wallet address and private key to `create_task` interface to deploy a task."
   ]
  },
  {
   "cell_type": "code",
   "metadata": {
    "ExecuteTime": {
     "end_time": "2024-08-22T21:59:57.893856Z",
     "start_time": "2024-08-22T21:59:41.480390Z"
    }
   },
   "source": [
    "from swan.object.task import PrivateTask\n",
    "private_task: PrivateTask = orchestrator.create_private_task(\n",
    "    project_path=pathlib.Path(\"/Users/alexchen/Documents/projects/python-swan-sdk/examples/example_private_project\"),\n",
    "    wallet_address=wallet_address,\n",
    "    private_key=private_key,\n",
    "    hardware_id=1,\n",
    "    duration=3600,\n",
    "    auto_pay=True,\n",
    ")\n",
    "\n",
    "task_uuid = private_task.task_uuid"
   ],
   "outputs": [
    {
     "name": "stderr",
     "output_type": "stream",
     "text": [
      "2024-08-22 17:59:41,555 - INFO - Using C1ae.medium machine, hardware_id=1 region='global' duration=3600 (seconds)\n",
      "2024-08-22 17:59:54,211 - INFO - Payment submitted, task_uuid='675ca3a9-b5e1-44fa-9ec3-9ae32a7514f8', duration=3600, hardware_id=1. Got tx_hash='0xb13047fb4727ef6e015c2cc237ec0aa91f007fac35835ff0d814b93ee7906865'\n",
      "2024-08-22 17:59:57,887 - INFO - Payment validation request sent, task_uuid='675ca3a9-b5e1-44fa-9ec3-9ae32a7514f8', tx_hash='0xb13047fb4727ef6e015c2cc237ec0aa91f007fac35835ff0d814b93ee7906865'\n",
      "2024-08-22 17:59:57,889 - INFO - Payment submitted and validated successfully, task_uuid='675ca3a9-b5e1-44fa-9ec3-9ae32a7514f8', tx_hash='0xb13047fb4727ef6e015c2cc237ec0aa91f007fac35835ff0d814b93ee7906865'\n",
      "2024-08-22 17:59:57,890 - INFO - Task created successfully, task_uuid='675ca3a9-b5e1-44fa-9ec3-9ae32a7514f8', tx_hash='0xb13047fb4727ef6e015c2cc237ec0aa91f007fac35835ff0d814b93ee7906865'\n"
     ]
    }
   ],
   "execution_count": 15
  },
  {
   "cell_type": "markdown",
   "metadata": {},
   "source": [
    "If completed steps above, please go to [View Deployed Task Results](#View-Deployed-Task-Results) to view results, or [terminate task](#terminate-task) for more functions related to tasks"
   ]
  },
  {
   "cell_type": "markdown",
   "metadata": {},
   "source": [
    "## View Deployed Task Results"
   ]
  },
  {
   "cell_type": "markdown",
   "metadata": {},
   "source": [
    "### follow up task status (optional)\n",
    "The following step is optional, shows information when waiting for task being deployed."
   ]
  },
  {
   "cell_type": "code",
   "metadata": {
    "ExecuteTime": {
     "end_time": "2024-08-22T15:18:52.437300Z",
     "start_time": "2024-08-22T15:18:52.299385Z"
    }
   },
   "source": [
    "# Check task info\n",
    "info = orchestrator.get_deployment_info(task_uuid=task_uuid)\n",
    "print(json.dumps(info, indent=2))"
   ],
   "outputs": [
    {
     "name": "stdout",
     "output_type": "stream",
     "text": [
      "{\n",
      "  \"data\": {\n",
      "    \"computing_providers\": [],\n",
      "    \"jobs\": [],\n",
      "    \"task\": {\n",
      "      \"comments\": null,\n",
      "      \"created_at\": 1724339915,\n",
      "      \"end_at\": 1724343515,\n",
      "      \"id\": 338,\n",
      "      \"leading_job_id\": null,\n",
      "      \"name\": null,\n",
      "      \"refund_amount\": null,\n",
      "      \"refund_wallet\": \"0x08ae4dAb3f8B46B9787857E59Cad59af9C650916\",\n",
      "      \"source\": \"v2\",\n",
      "      \"start_at\": 1724339915,\n",
      "      \"start_in\": 300,\n",
      "      \"status\": \"initialized\",\n",
      "      \"task_detail\": {\n",
      "        \"amount\": null,\n",
      "        \"bidder_limit\": 3,\n",
      "        \"created_at\": 1724339915,\n",
      "        \"dcc_node_job_source_uri\": null,\n",
      "        \"dcc_selected_cp_list\": null,\n",
      "        \"duration\": 3600,\n",
      "        \"end_at\": 1724343515,\n",
      "        \"hardware\": \"C1ae.medium\",\n",
      "        \"job_result_uri\": null,\n",
      "        \"job_source_uri\": \"https://plutotest.acl.swanipfs.com/ipfs/QmY4DJu9JCqwoboYaYTLdBzV8Gnj7G4nYS3RJM2v32Pwwk\",\n",
      "        \"price_per_hour\": \"1.0\",\n",
      "        \"requirements\": {\n",
      "          \"hardware\": \"None\",\n",
      "          \"hardware_type\": \"CPU\",\n",
      "          \"memory\": \"4\",\n",
      "          \"preferred_cp_list\": null,\n",
      "          \"region\": \"global\",\n",
      "          \"storage\": null,\n",
      "          \"update_max_lag\": null,\n",
      "          \"vcpu\": \"4\"\n",
      "        },\n",
      "        \"space\": {\n",
      "          \"activeOrder\": {\n",
      "            \"config\": {\n",
      "              \"description\": \"CPU only \\u00b7 4 vCPU \\u00b7 4 GiB\",\n",
      "              \"hardware\": \"CPU only\",\n",
      "              \"hardware_id\": 1,\n",
      "              \"hardware_type\": \"CPU\",\n",
      "              \"memory\": 4,\n",
      "              \"name\": \"C1ae.medium\",\n",
      "              \"price_per_hour\": 1.0,\n",
      "              \"vcpu\": 4\n",
      "            }\n",
      "          },\n",
      "          \"name\": \"0\",\n",
      "          \"uuid\": \"c9b5daf8-8acd-4348-bc60-46e4b290fed0\"\n",
      "        },\n",
      "        \"start_at\": 1724339915,\n",
      "        \"status\": \"paid\",\n",
      "        \"storage_source\": \"swanhub\",\n",
      "        \"type\": \"private_task\",\n",
      "        \"updated_at\": 1724339915\n",
      "      },\n",
      "      \"task_detail_cid\": \"https://plutotest.acl.swanipfs.com/ipfs/QmYkeuwif58Zf7TdkRr62YdKJwBeEu9bw5aALtSPPWP17A\",\n",
      "      \"tx_hash\": null,\n",
      "      \"type\": \"private_task\",\n",
      "      \"updated_at\": 1724339918,\n",
      "      \"user_id\": 5,\n",
      "      \"uuid\": \"83ebbbec-645e-4341-839e-29c5a7504b7b\"\n",
      "    }\n",
      "  },\n",
      "  \"message\": \"fetch task info for task_uuid='83ebbbec-645e-4341-839e-29c5a7504b7b' successfully\",\n",
      "  \"status\": \"success\"\n",
      "}\n"
     ]
    }
   ],
   "execution_count": 3
  },
  {
   "metadata": {
    "ExecuteTime": {
     "end_time": "2024-08-22T21:59:16.686828Z",
     "start_time": "2024-08-22T21:54:11.632725Z"
    }
   },
   "cell_type": "code",
   "source": [
    "# private_task = PrivateTask.load_from_json(\n",
    "#     json_str='{\"task_uuid\": \"7af8b0ec-0ccf-4c6a-9668-371fdd0f23c0\", \"encryption_key\": \"VmxWrQK7pTr7Z1wM2JeLzWVh2+efkTcv7a+psD47YUI=\"}',\n",
    "#     orchestrator=orchestrator,\n",
    "# )\n",
    "print(private_task.serialize_to_json())\n",
    "private_task.deploy_task()\n"
   ],
   "outputs": [
    {
     "name": "stderr",
     "output_type": "stream",
     "text": [
      "2024-08-22 17:54:11,784 - ERROR - 'NoneType' object is not subscriptable\n",
      "Traceback (most recent call last):\n",
      "  File \"/Users/alexchen/Documents/projects/python-swan-sdk/swan/object/task.py\", line 61, in _is_remote_temporary_node_ready\n",
      "    self.temporary_node_uri = resp_dict[\"data\"][\"temporary_node_uri\"]\n",
      "TypeError: 'NoneType' object is not subscriptable\n"
     ]
    },
    {
     "name": "stdout",
     "output_type": "stream",
     "text": [
      "{\"task_uuid\": \"0d076dc7-f994-4a54-bdb5-4b913b8ebd68\", \"encryption_key\": \"2i1v2G2UeVhMulfzl2ve97kQ4L8P1nnzRDs+UmXnq7c=\"}\n"
     ]
    },
    {
     "name": "stderr",
     "output_type": "stream",
     "text": [
      "2024-08-22 17:54:21,951 - ERROR - 'NoneType' object is not subscriptable\n",
      "Traceback (most recent call last):\n",
      "  File \"/Users/alexchen/Documents/projects/python-swan-sdk/swan/object/task.py\", line 61, in _is_remote_temporary_node_ready\n",
      "    self.temporary_node_uri = resp_dict[\"data\"][\"temporary_node_uri\"]\n",
      "TypeError: 'NoneType' object is not subscriptable\n",
      "2024-08-22 17:54:32,106 - ERROR - 'NoneType' object is not subscriptable\n",
      "Traceback (most recent call last):\n",
      "  File \"/Users/alexchen/Documents/projects/python-swan-sdk/swan/object/task.py\", line 61, in _is_remote_temporary_node_ready\n",
      "    self.temporary_node_uri = resp_dict[\"data\"][\"temporary_node_uri\"]\n",
      "TypeError: 'NoneType' object is not subscriptable\n",
      "2024-08-22 17:54:42,296 - ERROR - 'NoneType' object is not subscriptable\n",
      "Traceback (most recent call last):\n",
      "  File \"/Users/alexchen/Documents/projects/python-swan-sdk/swan/object/task.py\", line 61, in _is_remote_temporary_node_ready\n",
      "    self.temporary_node_uri = resp_dict[\"data\"][\"temporary_node_uri\"]\n",
      "TypeError: 'NoneType' object is not subscriptable\n",
      "2024-08-22 17:54:52,469 - ERROR - 'NoneType' object is not subscriptable\n",
      "Traceback (most recent call last):\n",
      "  File \"/Users/alexchen/Documents/projects/python-swan-sdk/swan/object/task.py\", line 61, in _is_remote_temporary_node_ready\n",
      "    self.temporary_node_uri = resp_dict[\"data\"][\"temporary_node_uri\"]\n",
      "TypeError: 'NoneType' object is not subscriptable\n",
      "2024-08-22 17:55:02,623 - ERROR - 'NoneType' object is not subscriptable\n",
      "Traceback (most recent call last):\n",
      "  File \"/Users/alexchen/Documents/projects/python-swan-sdk/swan/object/task.py\", line 61, in _is_remote_temporary_node_ready\n",
      "    self.temporary_node_uri = resp_dict[\"data\"][\"temporary_node_uri\"]\n",
      "TypeError: 'NoneType' object is not subscriptable\n",
      "2024-08-22 17:55:12,787 - ERROR - 'NoneType' object is not subscriptable\n",
      "Traceback (most recent call last):\n",
      "  File \"/Users/alexchen/Documents/projects/python-swan-sdk/swan/object/task.py\", line 61, in _is_remote_temporary_node_ready\n",
      "    self.temporary_node_uri = resp_dict[\"data\"][\"temporary_node_uri\"]\n",
      "TypeError: 'NoneType' object is not subscriptable\n",
      "2024-08-22 17:55:22,962 - ERROR - 'NoneType' object is not subscriptable\n",
      "Traceback (most recent call last):\n",
      "  File \"/Users/alexchen/Documents/projects/python-swan-sdk/swan/object/task.py\", line 61, in _is_remote_temporary_node_ready\n",
      "    self.temporary_node_uri = resp_dict[\"data\"][\"temporary_node_uri\"]\n",
      "TypeError: 'NoneType' object is not subscriptable\n",
      "2024-08-22 17:55:33,124 - ERROR - 'NoneType' object is not subscriptable\n",
      "Traceback (most recent call last):\n",
      "  File \"/Users/alexchen/Documents/projects/python-swan-sdk/swan/object/task.py\", line 61, in _is_remote_temporary_node_ready\n",
      "    self.temporary_node_uri = resp_dict[\"data\"][\"temporary_node_uri\"]\n",
      "TypeError: 'NoneType' object is not subscriptable\n",
      "2024-08-22 17:55:43,314 - ERROR - 'NoneType' object is not subscriptable\n",
      "Traceback (most recent call last):\n",
      "  File \"/Users/alexchen/Documents/projects/python-swan-sdk/swan/object/task.py\", line 61, in _is_remote_temporary_node_ready\n",
      "    self.temporary_node_uri = resp_dict[\"data\"][\"temporary_node_uri\"]\n",
      "TypeError: 'NoneType' object is not subscriptable\n",
      "2024-08-22 17:55:53,478 - ERROR - 'NoneType' object is not subscriptable\n",
      "Traceback (most recent call last):\n",
      "  File \"/Users/alexchen/Documents/projects/python-swan-sdk/swan/object/task.py\", line 61, in _is_remote_temporary_node_ready\n",
      "    self.temporary_node_uri = resp_dict[\"data\"][\"temporary_node_uri\"]\n",
      "TypeError: 'NoneType' object is not subscriptable\n",
      "2024-08-22 17:56:03,643 - ERROR - 'NoneType' object is not subscriptable\n",
      "Traceback (most recent call last):\n",
      "  File \"/Users/alexchen/Documents/projects/python-swan-sdk/swan/object/task.py\", line 61, in _is_remote_temporary_node_ready\n",
      "    self.temporary_node_uri = resp_dict[\"data\"][\"temporary_node_uri\"]\n",
      "TypeError: 'NoneType' object is not subscriptable\n",
      "2024-08-22 17:56:13,807 - ERROR - 'NoneType' object is not subscriptable\n",
      "Traceback (most recent call last):\n",
      "  File \"/Users/alexchen/Documents/projects/python-swan-sdk/swan/object/task.py\", line 61, in _is_remote_temporary_node_ready\n",
      "    self.temporary_node_uri = resp_dict[\"data\"][\"temporary_node_uri\"]\n",
      "TypeError: 'NoneType' object is not subscriptable\n",
      "2024-08-22 17:56:23,967 - ERROR - 'NoneType' object is not subscriptable\n",
      "Traceback (most recent call last):\n",
      "  File \"/Users/alexchen/Documents/projects/python-swan-sdk/swan/object/task.py\", line 61, in _is_remote_temporary_node_ready\n",
      "    self.temporary_node_uri = resp_dict[\"data\"][\"temporary_node_uri\"]\n",
      "TypeError: 'NoneType' object is not subscriptable\n",
      "2024-08-22 17:56:34,147 - ERROR - 'NoneType' object is not subscriptable\n",
      "Traceback (most recent call last):\n",
      "  File \"/Users/alexchen/Documents/projects/python-swan-sdk/swan/object/task.py\", line 61, in _is_remote_temporary_node_ready\n",
      "    self.temporary_node_uri = resp_dict[\"data\"][\"temporary_node_uri\"]\n",
      "TypeError: 'NoneType' object is not subscriptable\n",
      "2024-08-22 17:56:44,331 - ERROR - 'NoneType' object is not subscriptable\n",
      "Traceback (most recent call last):\n",
      "  File \"/Users/alexchen/Documents/projects/python-swan-sdk/swan/object/task.py\", line 61, in _is_remote_temporary_node_ready\n",
      "    self.temporary_node_uri = resp_dict[\"data\"][\"temporary_node_uri\"]\n",
      "TypeError: 'NoneType' object is not subscriptable\n",
      "2024-08-22 17:56:54,487 - ERROR - 'NoneType' object is not subscriptable\n",
      "Traceback (most recent call last):\n",
      "  File \"/Users/alexchen/Documents/projects/python-swan-sdk/swan/object/task.py\", line 61, in _is_remote_temporary_node_ready\n",
      "    self.temporary_node_uri = resp_dict[\"data\"][\"temporary_node_uri\"]\n",
      "TypeError: 'NoneType' object is not subscriptable\n",
      "2024-08-22 17:57:04,660 - ERROR - 'NoneType' object is not subscriptable\n",
      "Traceback (most recent call last):\n",
      "  File \"/Users/alexchen/Documents/projects/python-swan-sdk/swan/object/task.py\", line 61, in _is_remote_temporary_node_ready\n",
      "    self.temporary_node_uri = resp_dict[\"data\"][\"temporary_node_uri\"]\n",
      "TypeError: 'NoneType' object is not subscriptable\n",
      "2024-08-22 17:57:14,831 - ERROR - 'NoneType' object is not subscriptable\n",
      "Traceback (most recent call last):\n",
      "  File \"/Users/alexchen/Documents/projects/python-swan-sdk/swan/object/task.py\", line 61, in _is_remote_temporary_node_ready\n",
      "    self.temporary_node_uri = resp_dict[\"data\"][\"temporary_node_uri\"]\n",
      "TypeError: 'NoneType' object is not subscriptable\n",
      "2024-08-22 17:57:24,992 - ERROR - 'NoneType' object is not subscriptable\n",
      "Traceback (most recent call last):\n",
      "  File \"/Users/alexchen/Documents/projects/python-swan-sdk/swan/object/task.py\", line 61, in _is_remote_temporary_node_ready\n",
      "    self.temporary_node_uri = resp_dict[\"data\"][\"temporary_node_uri\"]\n",
      "TypeError: 'NoneType' object is not subscriptable\n",
      "2024-08-22 17:57:35,160 - ERROR - 'NoneType' object is not subscriptable\n",
      "Traceback (most recent call last):\n",
      "  File \"/Users/alexchen/Documents/projects/python-swan-sdk/swan/object/task.py\", line 61, in _is_remote_temporary_node_ready\n",
      "    self.temporary_node_uri = resp_dict[\"data\"][\"temporary_node_uri\"]\n",
      "TypeError: 'NoneType' object is not subscriptable\n",
      "2024-08-22 17:57:45,315 - ERROR - 'NoneType' object is not subscriptable\n",
      "Traceback (most recent call last):\n",
      "  File \"/Users/alexchen/Documents/projects/python-swan-sdk/swan/object/task.py\", line 61, in _is_remote_temporary_node_ready\n",
      "    self.temporary_node_uri = resp_dict[\"data\"][\"temporary_node_uri\"]\n",
      "TypeError: 'NoneType' object is not subscriptable\n",
      "2024-08-22 17:57:55,466 - ERROR - 'NoneType' object is not subscriptable\n",
      "Traceback (most recent call last):\n",
      "  File \"/Users/alexchen/Documents/projects/python-swan-sdk/swan/object/task.py\", line 61, in _is_remote_temporary_node_ready\n",
      "    self.temporary_node_uri = resp_dict[\"data\"][\"temporary_node_uri\"]\n",
      "TypeError: 'NoneType' object is not subscriptable\n",
      "2024-08-22 17:58:05,614 - ERROR - 'NoneType' object is not subscriptable\n",
      "Traceback (most recent call last):\n",
      "  File \"/Users/alexchen/Documents/projects/python-swan-sdk/swan/object/task.py\", line 61, in _is_remote_temporary_node_ready\n",
      "    self.temporary_node_uri = resp_dict[\"data\"][\"temporary_node_uri\"]\n",
      "TypeError: 'NoneType' object is not subscriptable\n",
      "2024-08-22 17:58:15,794 - ERROR - 'NoneType' object is not subscriptable\n",
      "Traceback (most recent call last):\n",
      "  File \"/Users/alexchen/Documents/projects/python-swan-sdk/swan/object/task.py\", line 61, in _is_remote_temporary_node_ready\n",
      "    self.temporary_node_uri = resp_dict[\"data\"][\"temporary_node_uri\"]\n",
      "TypeError: 'NoneType' object is not subscriptable\n",
      "2024-08-22 17:58:25,956 - ERROR - 'NoneType' object is not subscriptable\n",
      "Traceback (most recent call last):\n",
      "  File \"/Users/alexchen/Documents/projects/python-swan-sdk/swan/object/task.py\", line 61, in _is_remote_temporary_node_ready\n",
      "    self.temporary_node_uri = resp_dict[\"data\"][\"temporary_node_uri\"]\n",
      "TypeError: 'NoneType' object is not subscriptable\n",
      "2024-08-22 17:58:36,148 - ERROR - 'NoneType' object is not subscriptable\n",
      "Traceback (most recent call last):\n",
      "  File \"/Users/alexchen/Documents/projects/python-swan-sdk/swan/object/task.py\", line 61, in _is_remote_temporary_node_ready\n",
      "    self.temporary_node_uri = resp_dict[\"data\"][\"temporary_node_uri\"]\n",
      "TypeError: 'NoneType' object is not subscriptable\n",
      "2024-08-22 17:58:46,328 - ERROR - 'NoneType' object is not subscriptable\n",
      "Traceback (most recent call last):\n",
      "  File \"/Users/alexchen/Documents/projects/python-swan-sdk/swan/object/task.py\", line 61, in _is_remote_temporary_node_ready\n",
      "    self.temporary_node_uri = resp_dict[\"data\"][\"temporary_node_uri\"]\n",
      "TypeError: 'NoneType' object is not subscriptable\n",
      "2024-08-22 17:58:56,498 - ERROR - 'NoneType' object is not subscriptable\n",
      "Traceback (most recent call last):\n",
      "  File \"/Users/alexchen/Documents/projects/python-swan-sdk/swan/object/task.py\", line 61, in _is_remote_temporary_node_ready\n",
      "    self.temporary_node_uri = resp_dict[\"data\"][\"temporary_node_uri\"]\n",
      "TypeError: 'NoneType' object is not subscriptable\n",
      "2024-08-22 17:59:06,648 - ERROR - 'NoneType' object is not subscriptable\n",
      "Traceback (most recent call last):\n",
      "  File \"/Users/alexchen/Documents/projects/python-swan-sdk/swan/object/task.py\", line 61, in _is_remote_temporary_node_ready\n",
      "    self.temporary_node_uri = resp_dict[\"data\"][\"temporary_node_uri\"]\n",
      "TypeError: 'NoneType' object is not subscriptable\n"
     ]
    },
    {
     "ename": "Exception",
     "evalue": "Task failed to deploy, you could try again",
     "output_type": "error",
     "traceback": [
      "\u001B[0;31m---------------------------------------------------------------------------\u001B[0m",
      "\u001B[0;31mException\u001B[0m                                 Traceback (most recent call last)",
      "Cell \u001B[0;32mIn[14], line 6\u001B[0m\n\u001B[1;32m      1\u001B[0m \u001B[38;5;66;03m# private_task = PrivateTask.load_from_json(\u001B[39;00m\n\u001B[1;32m      2\u001B[0m \u001B[38;5;66;03m#     json_str='{\"task_uuid\": \"7af8b0ec-0ccf-4c6a-9668-371fdd0f23c0\", \"encryption_key\": \"VmxWrQK7pTr7Z1wM2JeLzWVh2+efkTcv7a+psD47YUI=\"}',\u001B[39;00m\n\u001B[1;32m      3\u001B[0m \u001B[38;5;66;03m#     orchestrator=orchestrator,\u001B[39;00m\n\u001B[1;32m      4\u001B[0m \u001B[38;5;66;03m# )\u001B[39;00m\n\u001B[1;32m      5\u001B[0m \u001B[38;5;28mprint\u001B[39m(private_task\u001B[38;5;241m.\u001B[39mserialize_to_json())\n\u001B[0;32m----> 6\u001B[0m \u001B[43mprivate_task\u001B[49m\u001B[38;5;241;43m.\u001B[39;49m\u001B[43mdeploy_task\u001B[49m\u001B[43m(\u001B[49m\u001B[43m)\u001B[49m\n",
      "File \u001B[0;32m~/Documents/projects/python-swan-sdk/swan/object/task.py:118\u001B[0m, in \u001B[0;36mPrivateTask.deploy_task\u001B[0;34m(self, retries)\u001B[0m\n\u001B[1;32m    116\u001B[0m         \u001B[38;5;28;01mbreak\u001B[39;00m\n\u001B[1;32m    117\u001B[0m \u001B[38;5;28;01melse\u001B[39;00m:\n\u001B[0;32m--> 118\u001B[0m     \u001B[38;5;28;01mraise\u001B[39;00m \u001B[38;5;167;01mException\u001B[39;00m(\u001B[38;5;124m\"\u001B[39m\u001B[38;5;124mTask failed to deploy, you could try again\u001B[39m\u001B[38;5;124m\"\u001B[39m)\n\u001B[1;32m    120\u001B[0m temporary_node_public_key \u001B[38;5;241m=\u001B[39m \u001B[38;5;28mself\u001B[39m\u001B[38;5;241m.\u001B[39mget_temporary_node_public_key()\n\u001B[1;32m    121\u001B[0m encrypted_symmetric_key \u001B[38;5;241m=\u001B[39m encrypt_symmetric_key_with_rsa(\u001B[38;5;28mself\u001B[39m\u001B[38;5;241m.\u001B[39mencryption_key, temporary_node_public_key)\n",
      "\u001B[0;31mException\u001B[0m: Task failed to deploy, you could try again"
     ]
    }
   ],
   "execution_count": 14
  },
  {
   "cell_type": "markdown",
   "metadata": {},
   "source": [
    "### Show result\n",
    "\n",
    "`job_real_uri` is for show the result of application you deployed. Click the url to view application in browser."
   ]
  },
  {
   "cell_type": "code",
   "execution_count": 19,
   "metadata": {
    "ExecuteTime": {
     "end_time": "2024-08-19T19:12:41.702571Z",
     "start_time": "2024-08-19T19:12:41.557877Z"
    }
   },
   "outputs": [
    {
     "name": "stdout",
     "output_type": "stream",
     "text": [
      "[]\n"
     ]
    }
   ],
   "source": [
    "result_url = orchestrator.get_real_url(task_uuid)\n",
    "print(result_url)"
   ]
  },
  {
   "cell_type": "markdown",
   "metadata": {},
   "source": [
    "## Update Task (optional)\n",
    "\n",
    "### Renew task (optional)\n",
    "\n",
    "Extend `task_uuid` by `duration`. Using auto pay automatically makes a transaction to SWAN contract and extends the task."
   ]
  },
  {
   "cell_type": "code",
   "execution_count": 17,
   "metadata": {
    "ExecuteTime": {
     "end_time": "2024-08-19T19:12:27.190064Z",
     "start_time": "2024-08-19T19:12:27.187435Z"
    }
   },
   "outputs": [],
   "source": [
    "# renew_task = orchestrator.renew_task(\n",
    "#     task_uuid=task_uuid, \n",
    "#     duration=66, # Optional: Defaults to 3600 seconds (1 hour)\n",
    "#     auto_pay=True, # Optional: Defaults to False, in this demo path set to True\n",
    "#     private_key=private_key\n",
    "# )\n",
    "# \n",
    "# if renew_task and renew_task['status'] == 'success':\n",
    "#     print(f\"successfully renewed task\")"
   ]
  },
  {
   "cell_type": "markdown",
   "metadata": {},
   "source": [
    "### Terminate task (Optional)\n",
    "\n",
    "Terminate the task `task_uuid` and get a refund for remaining time"
   ]
  },
  {
   "cell_type": "code",
   "execution_count": 26,
   "metadata": {
    "ExecuteTime": {
     "end_time": "2024-08-19T20:46:29.121936Z",
     "start_time": "2024-08-19T20:46:28.958836Z"
    }
   },
   "outputs": [
    {
     "name": "stdout",
     "output_type": "stream",
     "text": [
      "Terminated 33b42e3a-f4de-44e0-9468-09528e65c777 successfully\n"
     ]
    }
   ],
   "source": [
    "terminate_status = orchestrator.terminate_task(\"e43eb71e-43c3-4f72-90cc-31b65e0f8b96\")\n",
    "if terminate_status['status'] == 'success':\n",
    "    print(f\"Terminated {task_uuid} successfully\")\n",
    "else:\n",
    "    print(f\"Failed to terminate {task_uuid}\")"
   ]
  },
  {
   "cell_type": "code",
   "execution_count": 18,
   "metadata": {
    "ExecuteTime": {
     "end_time": "2024-08-19T19:12:27.195507Z",
     "start_time": "2024-08-19T19:12:27.194162Z"
    }
   },
   "outputs": [],
   "source": []
  }
 ],
 "metadata": {
  "kernelspec": {
   "display_name": "Python 3 (ipykernel)",
   "language": "python",
   "name": "python3"
  },
  "language_info": {
   "codemirror_mode": {
    "name": "ipython",
    "version": 3
   },
   "file_extension": ".py",
   "mimetype": "text/x-python",
   "name": "python",
   "nbconvert_exporter": "python",
   "pygments_lexer": "ipython3",
   "version": "3.9.6"
  }
 },
 "nbformat": 4,
 "nbformat_minor": 4
}
