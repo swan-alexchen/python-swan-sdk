{
 "cells": [
  {
   "cell_type": "markdown",
   "metadata": {},
   "source": [
    "## Demo for SDK (Lite Version)\n",
    "\n",
    "This example shows how to use SDK to deploy a task using a pre-defined repo source."
   ]
  },
  {
   "cell_type": "markdown",
   "metadata": {},
   "source": [
    "- [Getting Started](#Getting-Started)\n",
    "- [Creating And Deploying Task](#Creating-And-Deploying-Task)\n",
    "    - [Create task](#create-task)\n",
    "- [View Deployed Task Results](#View-Deployed-Task-Results)\n",
    "    - [Follow up task status](#follow-up-task-status-optional)\n",
    "    - [Show result](#show-result)\n",
    "- [Update Task](#update-task-optional)\n",
    "    - [Renew task](#renew-task-optional)\n",
    "    - [Terminate task](#terminate-task-optional)"
   ]
  },
  {
   "cell_type": "markdown",
   "metadata": {},
   "source": [
    "# Getting Started"
   ]
  },
  {
   "cell_type": "markdown",
   "metadata": {},
   "source": [
    "\n",
    "### Initialization\n",
    "\n",
    "To use this SDK, you need to add environment file `.env` in your local directory, including the following parameters (`PK` is private key):\n",
    "\n",
    "```\n",
    "API_KEY=\n",
    "WALLET=\n",
    "PK=\n",
    "```"
   ]
  },
  {
   "cell_type": "code",
   "metadata": {
    "ExecuteTime": {
     "end_time": "2024-08-21T21:41:41.433842Z",
     "start_time": "2024-08-21T21:41:40.949794Z"
    }
   },
   "source": [
    "import pathlib\n",
    "\n",
    "from swan import Orchestrator\n",
    "import sys\n",
    "sys.path.insert(0, '..') \n",
    "\n",
    "import os\n",
    "import time\n",
    "import dotenv\n",
    "import json\n",
    "dotenv.load_dotenv()\n",
    "\n",
    "import swan\n",
    "\n",
    "wallet_address = os.getenv('WALLET')\n",
    "private_key = os.getenv('PK')\n",
    "api_key = os.getenv('API_KEY')\n",
    "\n",
    "# for testnet dev\n",
    "# orchestrator: Orchestrator = swan.resource(\n",
    "#     api_key=api_key, \n",
    "#     service_name='Orchestrator', \n",
    "#     login_url='https://swanhub-cali.swanchain.io',      # dev version for testnet login url\n",
    "#     url_endpoint='https://swanhub-cali.swanchain.io'    # dev version for testnet\n",
    "# )\n",
    "# \n",
    "orchestrator: Orchestrator = swan.resource(\n",
    "    api_key=api_key, \n",
    "    service_name='Orchestrator', \n",
    "    login_url='http://localhost:5008',      # dev version for testnet login url\n",
    "    url_endpoint='http://localhost:5008'    # dev version for testnet\n",
    ")\n"
   ],
   "outputs": [
    {
     "ename": "ModuleNotFoundError",
     "evalue": "No module named 'cryptography'",
     "output_type": "error",
     "traceback": [
      "\u001B[0;31m---------------------------------------------------------------------------\u001B[0m",
      "\u001B[0;31mModuleNotFoundError\u001B[0m                       Traceback (most recent call last)",
      "Cell \u001B[0;32mIn[1], line 3\u001B[0m\n\u001B[1;32m      1\u001B[0m \u001B[38;5;28;01mimport\u001B[39;00m \u001B[38;5;21;01mpathlib\u001B[39;00m\n\u001B[0;32m----> 3\u001B[0m \u001B[38;5;28;01mfrom\u001B[39;00m \u001B[38;5;21;01mswan\u001B[39;00m \u001B[38;5;28;01mimport\u001B[39;00m Orchestrator\n\u001B[1;32m      4\u001B[0m \u001B[38;5;28;01mimport\u001B[39;00m \u001B[38;5;21;01msys\u001B[39;00m\n\u001B[1;32m      5\u001B[0m sys\u001B[38;5;241m.\u001B[39mpath\u001B[38;5;241m.\u001B[39minsert(\u001B[38;5;241m0\u001B[39m, \u001B[38;5;124m'\u001B[39m\u001B[38;5;124m..\u001B[39m\u001B[38;5;124m'\u001B[39m) \n",
      "File \u001B[0;32m~/Documents/projects/python-swan-sdk/swan/__init__.py:3\u001B[0m\n\u001B[1;32m      1\u001B[0m \u001B[38;5;66;03m# ./swan/__init__.py\u001B[39;00m\n\u001B[0;32m----> 3\u001B[0m \u001B[38;5;28;01mfrom\u001B[39;00m \u001B[38;5;21;01mswan\u001B[39;00m\u001B[38;5;21;01m.\u001B[39;00m\u001B[38;5;21;01mapi\u001B[39;00m\u001B[38;5;21;01m.\u001B[39;00m\u001B[38;5;21;01morchestrator\u001B[39;00m \u001B[38;5;28;01mimport\u001B[39;00m Orchestrator\n\u001B[1;32m      4\u001B[0m \u001B[38;5;28;01mfrom\u001B[39;00m \u001B[38;5;21;01mswan\u001B[39;00m\u001B[38;5;21;01m.\u001B[39;00m\u001B[38;5;21;01mapi_client\u001B[39;00m \u001B[38;5;28;01mimport\u001B[39;00m APIClient\n\u001B[1;32m      5\u001B[0m \u001B[38;5;28;01mfrom\u001B[39;00m \u001B[38;5;21;01mswan\u001B[39;00m\u001B[38;5;21;01m.\u001B[39;00m\u001B[38;5;21;01mcontract\u001B[39;00m\u001B[38;5;21;01m.\u001B[39;00m\u001B[38;5;21;01mswan_contract\u001B[39;00m \u001B[38;5;28;01mimport\u001B[39;00m SwanContract\n",
      "File \u001B[0;32m~/Documents/projects/python-swan-sdk/swan/api/orchestrator.py:12\u001B[0m\n\u001B[1;32m      9\u001B[0m \u001B[38;5;28;01mfrom\u001B[39;00m \u001B[38;5;21;01meth_account\u001B[39;00m \u001B[38;5;28;01mimport\u001B[39;00m Account\n\u001B[1;32m     10\u001B[0m \u001B[38;5;28;01mfrom\u001B[39;00m \u001B[38;5;21;01meth_account\u001B[39;00m\u001B[38;5;21;01m.\u001B[39;00m\u001B[38;5;21;01mmessages\u001B[39;00m \u001B[38;5;28;01mimport\u001B[39;00m encode_defunct\n\u001B[0;32m---> 12\u001B[0m \u001B[38;5;28;01mfrom\u001B[39;00m \u001B[38;5;21;01mswan\u001B[39;00m\u001B[38;5;21;01m.\u001B[39;00m\u001B[38;5;21;01mapi_client\u001B[39;00m \u001B[38;5;28;01mimport\u001B[39;00m APIClient\n\u001B[1;32m     13\u001B[0m \u001B[38;5;28;01mfrom\u001B[39;00m \u001B[38;5;21;01mswan\u001B[39;00m\u001B[38;5;21;01m.\u001B[39;00m\u001B[38;5;21;01mcommon\u001B[39;00m \u001B[38;5;28;01mimport\u001B[39;00m utils\n\u001B[1;32m     14\u001B[0m \u001B[38;5;28;01mfrom\u001B[39;00m \u001B[38;5;21;01mswan\u001B[39;00m\u001B[38;5;21;01m.\u001B[39;00m\u001B[38;5;21;01mcommon\u001B[39;00m\u001B[38;5;21;01m.\u001B[39;00m\u001B[38;5;21;01mconstant\u001B[39;00m \u001B[38;5;28;01mimport\u001B[39;00m \u001B[38;5;241m*\u001B[39m\n",
      "File \u001B[0;32m~/Documents/projects/python-swan-sdk/swan/api_client.py:8\u001B[0m\n\u001B[1;32m      4\u001B[0m \u001B[38;5;28;01mimport\u001B[39;00m \u001B[38;5;21;01mjson\u001B[39;00m\n\u001B[1;32m      7\u001B[0m \u001B[38;5;28;01mfrom\u001B[39;00m \u001B[38;5;21;01mswan\u001B[39;00m\u001B[38;5;21;01m.\u001B[39;00m\u001B[38;5;21;01mcommon\u001B[39;00m\u001B[38;5;21;01m.\u001B[39;00m\u001B[38;5;21;01mconstant\u001B[39;00m \u001B[38;5;28;01mimport\u001B[39;00m GET, PUT, POST, DELETE\n\u001B[0;32m----> 8\u001B[0m \u001B[38;5;28;01mfrom\u001B[39;00m \u001B[38;5;21;01mswan\u001B[39;00m\u001B[38;5;21;01m.\u001B[39;00m\u001B[38;5;21;01mcommon\u001B[39;00m \u001B[38;5;28;01mimport\u001B[39;00m utils\n\u001B[1;32m     11\u001B[0m \u001B[38;5;28;01mclass\u001B[39;00m \u001B[38;5;21;01mAPIClient\u001B[39;00m(\u001B[38;5;28mobject\u001B[39m):\n\u001B[1;32m     13\u001B[0m     \u001B[38;5;28;01mdef\u001B[39;00m \u001B[38;5;21m_request\u001B[39m(\u001B[38;5;28mself\u001B[39m, method, request_path, swan_api, params, token, files\u001B[38;5;241m=\u001B[39m\u001B[38;5;28;01mFalse\u001B[39;00m, json_body\u001B[38;5;241m=\u001B[39m\u001B[38;5;28;01mFalse\u001B[39;00m):\n",
      "File \u001B[0;32m~/Documents/projects/python-swan-sdk/swan/common/utils.py:13\u001B[0m\n\u001B[1;32m     10\u001B[0m \u001B[38;5;28;01mimport\u001B[39;00m \u001B[38;5;21;01mre\u001B[39;00m\n\u001B[1;32m     11\u001B[0m \u001B[38;5;28;01mimport\u001B[39;00m \u001B[38;5;21;01mdatetime\u001B[39;00m\n\u001B[0;32m---> 13\u001B[0m \u001B[38;5;28;01mfrom\u001B[39;00m \u001B[38;5;21;01mcryptography\u001B[39;00m\u001B[38;5;21;01m.\u001B[39;00m\u001B[38;5;21;01mhazmat\u001B[39;00m\u001B[38;5;21;01m.\u001B[39;00m\u001B[38;5;21;01mbackends\u001B[39;00m \u001B[38;5;28;01mimport\u001B[39;00m default_backend\n\u001B[1;32m     14\u001B[0m \u001B[38;5;28;01mfrom\u001B[39;00m \u001B[38;5;21;01mcryptography\u001B[39;00m\u001B[38;5;21;01m.\u001B[39;00m\u001B[38;5;21;01mhazmat\u001B[39;00m\u001B[38;5;21;01m.\u001B[39;00m\u001B[38;5;21;01mprimitives\u001B[39;00m \u001B[38;5;28;01mimport\u001B[39;00m padding\n\u001B[1;32m     15\u001B[0m \u001B[38;5;28;01mfrom\u001B[39;00m \u001B[38;5;21;01mcryptography\u001B[39;00m\u001B[38;5;21;01m.\u001B[39;00m\u001B[38;5;21;01mhazmat\u001B[39;00m\u001B[38;5;21;01m.\u001B[39;00m\u001B[38;5;21;01mprimitives\u001B[39;00m\u001B[38;5;21;01m.\u001B[39;00m\u001B[38;5;21;01mciphers\u001B[39;00m \u001B[38;5;28;01mimport\u001B[39;00m Cipher, algorithms, modes\n",
      "\u001B[0;31mModuleNotFoundError\u001B[0m: No module named 'cryptography'"
     ]
    }
   ],
   "execution_count": 1
  },
  {
   "cell_type": "code",
   "execution_count": 13,
   "metadata": {
    "ExecuteTime": {
     "end_time": "2024-08-19T19:12:26.415345Z",
     "start_time": "2024-08-19T19:12:26.413565Z"
    }
   },
   "outputs": [],
   "source": []
  },
  {
   "cell_type": "markdown",
   "metadata": {},
   "source": [
    "## Creating And Deploying Task"
   ]
  },
  {
   "cell_type": "markdown",
   "metadata": {},
   "source": [
    "Show repository image of pre-defined applications (optional)"
   ]
  },
  {
   "cell_type": "markdown",
   "metadata": {},
   "source": [
    "### Create task\n",
    "\n",
    "Choose a application repository image name from the above list, and provide wallet address and private key to `create_task` interface to deploy a task."
   ]
  },
  {
   "cell_type": "code",
   "execution_count": 14,
   "metadata": {
    "ExecuteTime": {
     "end_time": "2024-08-19T19:12:26.913658Z",
     "start_time": "2024-08-19T19:12:26.416140Z"
    }
   },
   "outputs": [
    {
     "name": "stderr",
     "output_type": "stream",
     "text": [
      "2024-08-19 15:12:26,545 - INFO - Using C1ae.medium machine, hardware_id=1 region='global' duration=3600 (seconds)\n",
      "2024-08-19 15:12:26,910 - INFO - Task created successfully, task_uuid='33b42e3a-f4de-44e0-9468-09528e65c777', tx_hash=None\n"
     ]
    }
   ],
   "source": [
    "result = orchestrator.create_private_task(\n",
    "    project_path=pathlib.Path(__file__).parent.absolute(),\n",
    "    wallet_address=wallet_address,\n",
    "    # job_source_uri=\"https://swanhub-cali.swanchain.io/spaces/842f8280-9b9c-4bdd-81bf-36a54e47cf4a\",\n",
    "    \n",
    "    private_key=private_key,\n",
    "    hardware_id=1,\n",
    "    duration=3600,\n",
    ")\n",
    "\n",
    "# print(json.dumps(result, indent=2))\n",
    "task_uuid = result['id']"
   ]
  },
  {
   "cell_type": "markdown",
   "metadata": {},
   "source": [
    "If completed steps above, please go to [View Deployed Task Results](#View-Deployed-Task-Results) to view results, or [terminate task](#terminate-task) for more functions related to tasks"
   ]
  },
  {
   "cell_type": "markdown",
   "metadata": {},
   "source": [
    "## View Deployed Task Results"
   ]
  },
  {
   "cell_type": "markdown",
   "metadata": {},
   "source": [
    "### follow up task status (optional)\n",
    "The following step is optional, shows information when waiting for task being deployed."
   ]
  },
  {
   "cell_type": "code",
   "execution_count": 15,
   "metadata": {
    "ExecuteTime": {
     "end_time": "2024-08-19T19:12:27.050405Z",
     "start_time": "2024-08-19T19:12:26.916693Z"
    }
   },
   "outputs": [
    {
     "name": "stdout",
     "output_type": "stream",
     "text": [
      "{\n",
      "  \"data\": {\n",
      "    \"computing_providers\": [],\n",
      "    \"jobs\": [],\n",
      "    \"task\": {\n",
      "      \"comments\": null,\n",
      "      \"created_at\": 1724094746,\n",
      "      \"end_at\": 1724098346,\n",
      "      \"id\": 230,\n",
      "      \"leading_job_id\": null,\n",
      "      \"name\": null,\n",
      "      \"refund_amount\": null,\n",
      "      \"refund_wallet\": \"0x08ae4dAb3f8B46B9787857E59Cad59af9C650916\",\n",
      "      \"source\": \"v2\",\n",
      "      \"start_at\": 1724094746,\n",
      "      \"start_in\": 300,\n",
      "      \"status\": \"initialized\",\n",
      "      \"task_detail\": {\n",
      "        \"amount\": null,\n",
      "        \"bidder_limit\": 3,\n",
      "        \"created_at\": 1724094746,\n",
      "        \"dcc_selected_cp_list\": null,\n",
      "        \"duration\": 3600,\n",
      "        \"end_at\": 1724098346,\n",
      "        \"hardware\": \"C1ae.medium\",\n",
      "        \"job_result_uri\": null,\n",
      "        \"job_source_uri\": \"https://swanhub-cali.swanchain.io/spaces/842f8280-9b9c-4bdd-81bf-36a54e47cf4a\",\n",
      "        \"price_per_hour\": \"1.0\",\n",
      "        \"requirements\": {\n",
      "          \"hardware\": \"None\",\n",
      "          \"hardware_type\": \"CPU\",\n",
      "          \"memory\": \"4\",\n",
      "          \"preferred_cp_list\": null,\n",
      "          \"region\": \"global\",\n",
      "          \"storage\": null,\n",
      "          \"update_max_lag\": null,\n",
      "          \"vcpu\": \"4\"\n",
      "        },\n",
      "        \"space\": {\n",
      "          \"activeOrder\": {\n",
      "            \"config\": {\n",
      "              \"description\": \"CPU only \\u00b7 4 vCPU \\u00b7 4 GiB\",\n",
      "              \"hardware\": \"CPU only\",\n",
      "              \"hardware_id\": 1,\n",
      "              \"hardware_type\": \"CPU\",\n",
      "              \"memory\": 4,\n",
      "              \"name\": \"C1ae.medium\",\n",
      "              \"price_per_hour\": 1.0,\n",
      "              \"vcpu\": 4\n",
      "            }\n",
      "          },\n",
      "          \"name\": \"0\",\n",
      "          \"uuid\": \"c7be7d76-fc32-4e1d-a939-26e144143918\"\n",
      "        },\n",
      "        \"start_at\": 1724094746,\n",
      "        \"status\": \"paid\",\n",
      "        \"storage_source\": \"swanhub\",\n",
      "        \"type\": \"None\",\n",
      "        \"updated_at\": 1724094746\n",
      "      },\n",
      "      \"task_detail_cid\": null,\n",
      "      \"tx_hash\": null,\n",
      "      \"type\": \"None\",\n",
      "      \"updated_at\": 1724094746,\n",
      "      \"user_id\": 5,\n",
      "      \"uuid\": \"33b42e3a-f4de-44e0-9468-09528e65c777\"\n",
      "    }\n",
      "  },\n",
      "  \"message\": \"fetch task info for task_uuid='33b42e3a-f4de-44e0-9468-09528e65c777' successfully\",\n",
      "  \"status\": \"success\"\n",
      "}\n"
     ]
    }
   ],
   "source": [
    "# Check task info\n",
    "info = orchestrator.get_deployment_info(task_uuid=task_uuid)\n",
    "print(json.dumps(info, indent=2))"
   ]
  },
  {
   "cell_type": "markdown",
   "metadata": {},
   "source": [
    "### Show result\n",
    "\n",
    "`job_real_uri` is for show the result of application you deployed. Click the url to view application in browser."
   ]
  },
  {
   "cell_type": "code",
   "execution_count": 19,
   "metadata": {
    "ExecuteTime": {
     "end_time": "2024-08-19T19:12:41.702571Z",
     "start_time": "2024-08-19T19:12:41.557877Z"
    }
   },
   "outputs": [
    {
     "name": "stdout",
     "output_type": "stream",
     "text": [
      "[]\n"
     ]
    }
   ],
   "source": [
    "result_url = orchestrator.get_real_url(task_uuid)\n",
    "print(result_url)"
   ]
  },
  {
   "cell_type": "markdown",
   "metadata": {},
   "source": [
    "## Update Task (optional)\n",
    "\n",
    "### Renew task (optional)\n",
    "\n",
    "Extend `task_uuid` by `duration`. Using auto pay automatically makes a transaction to SWAN contract and extends the task."
   ]
  },
  {
   "cell_type": "code",
   "execution_count": 17,
   "metadata": {
    "ExecuteTime": {
     "end_time": "2024-08-19T19:12:27.190064Z",
     "start_time": "2024-08-19T19:12:27.187435Z"
    }
   },
   "outputs": [],
   "source": [
    "# renew_task = orchestrator.renew_task(\n",
    "#     task_uuid=task_uuid, \n",
    "#     duration=66, # Optional: Defaults to 3600 seconds (1 hour)\n",
    "#     auto_pay=True, # Optional: Defaults to False, in this demo path set to True\n",
    "#     private_key=private_key\n",
    "# )\n",
    "# \n",
    "# if renew_task and renew_task['status'] == 'success':\n",
    "#     print(f\"successfully renewed task\")"
   ]
  },
  {
   "cell_type": "markdown",
   "metadata": {},
   "source": [
    "### Terminate task (Optional)\n",
    "\n",
    "Terminate the task `task_uuid` and get a refund for remaining time"
   ]
  },
  {
   "cell_type": "code",
   "execution_count": 26,
   "metadata": {
    "ExecuteTime": {
     "end_time": "2024-08-19T20:46:29.121936Z",
     "start_time": "2024-08-19T20:46:28.958836Z"
    }
   },
   "outputs": [
    {
     "name": "stdout",
     "output_type": "stream",
     "text": [
      "Terminated 33b42e3a-f4de-44e0-9468-09528e65c777 successfully\n"
     ]
    }
   ],
   "source": [
    "terminate_status = orchestrator.terminate_task(\"e43eb71e-43c3-4f72-90cc-31b65e0f8b96\")\n",
    "if terminate_status['status'] == 'success':\n",
    "    print(f\"Terminated {task_uuid} successfully\")\n",
    "else:\n",
    "    print(f\"Failed to terminate {task_uuid}\")"
   ]
  },
  {
   "cell_type": "code",
   "execution_count": 18,
   "metadata": {
    "ExecuteTime": {
     "end_time": "2024-08-19T19:12:27.195507Z",
     "start_time": "2024-08-19T19:12:27.194162Z"
    }
   },
   "outputs": [],
   "source": []
  }
 ],
 "metadata": {
  "kernelspec": {
   "display_name": "Python 3 (ipykernel)",
   "language": "python",
   "name": "python3"
  },
  "language_info": {
   "codemirror_mode": {
    "name": "ipython",
    "version": 3
   },
   "file_extension": ".py",
   "mimetype": "text/x-python",
   "name": "python",
   "nbconvert_exporter": "python",
   "pygments_lexer": "ipython3",
   "version": "3.9.6"
  }
 },
 "nbformat": 4,
 "nbformat_minor": 4
}
